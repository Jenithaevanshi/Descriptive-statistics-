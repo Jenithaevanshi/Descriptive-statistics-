{
 "cells": [
  {
   "cell_type": "code",
   "execution_count": null,
   "id": "a18e4771",
   "metadata": {},
   "outputs": [],
   "source": [
    "###########################################################################"
   ]
  },
  {
   "cell_type": "code",
   "execution_count": null,
   "id": "024b27a7",
   "metadata": {},
   "outputs": [],
   "source": [
    "# Introduction\n",
    "\n",
    "# This Jupyter notebook is part of your learning experience in the study of descriptive statistics\n",
    "# You will work with a simple data set that contains employee specifics of a certain company\n",
    "\n",
    "# In this exercise, you will perform the following tasks:\n",
    "# 1 - Load and study the data\n",
    "# 2 - Visualise the distributions of ratings and compensations\n",
    "# 3 - Subset the data based on thresholds"
   ]
  },
  {
   "cell_type": "code",
   "execution_count": null,
   "id": "7e40a24f",
   "metadata": {},
   "outputs": [],
   "source": [
    "###########################################################################"
   ]
  },
  {
   "cell_type": "code",
   "execution_count": null,
   "id": "a9409726",
   "metadata": {},
   "outputs": [],
   "source": [
    "# Task 1 - Load and study the data\n",
    "\n",
    "# Load the data and study its features such as:\n",
    "# The number of employees\n",
    "# The number of features\n",
    "# The types of features"
   ]
  },
  {
   "cell_type": "code",
   "execution_count": 1,
   "id": "695547fd",
   "metadata": {},
   "outputs": [],
   "source": [
    "# Load \"numpy\" and \"pandas\" for manipulating numbers and data frames\n",
    "# Load \"matplotlib.pyplot\" and \"seaborn\" for data visualisation\n",
    "import numpy as np\n",
    "import pandas as pd\n",
    "import matplotlib.pyplot as plt\n",
    "import seaborn as sns"
   ]
  },
  {
   "cell_type": "code",
   "execution_count": 13,
   "id": "ccaaec5a-cef2-4b1b-b097-3de1f2ee45e9",
   "metadata": {},
   "outputs": [
    {
     "data": {
      "text/plain": [
       "['.ipynb_checkpoints',\n",
       " '0001013840003673375_03152025_04042025.PDF',\n",
       " 'Anaconda3-2024.10-1-Windows-x86_64.exe',\n",
       " 'Assignment on String_upGrad1.pdf.pdf',\n",
       " 'Assignment.pdf',\n",
       " 'Case+Study+Notebook (1)',\n",
       " 'codeblocks-20.03mingw-setup.exe',\n",
       " 'Course Project_ File Handling [exercise] (2).ipynb.ipynb',\n",
       " 'Course Project_ File Handling [exercise].ipynb',\n",
       " 'Course_Project_File_Handling_[solution]',\n",
       " 'Course_Project_File_Handling_[solution].zip',\n",
       " 'Descriptive_Statistics_1_Solution (2).ipynb',\n",
       " 'desktop.ini',\n",
       " 'doubt(1)(1).ipynb',\n",
       " 'doubt(1).ipynb',\n",
       " 'doubt.ipynb',\n",
       " 'Employee_Specifics.csv',\n",
       " 'File handling project',\n",
       " 'File handling project.zip',\n",
       " 'Git-2.48.1-64-bit.exe',\n",
       " 'Git-2.49.0-64-bit.exe',\n",
       " 'git-sdk-installer-1.0.8-32.7z.exe',\n",
       " 'GitHubDesktopSetup-x64.exe',\n",
       " 'gvim_9.1.0_x64_signed.exe',\n",
       " 'jeni',\n",
       " 'mainfolder',\n",
       " 'mainfolder.zip',\n",
       " 'other exercise upgrade',\n",
       " 'Pandas+Notebook+II.ipynb',\n",
       " 'Pandas+Notebook+III.ipynb',\n",
       " 'pandas_abhisheak',\n",
       " 'Practice+Questions+-+Session+2 (1)',\n",
       " 'Practice+Questions+-+Session+2 (1).zip',\n",
       " 'Practice+Questions+-+Session+2+(Solution) (1) (1)',\n",
       " 'project jeni.ipynb',\n",
       " 'python programming',\n",
       " 'python-3.12.0-amd64.exe',\n",
       " 'python-3.12.4-amd64.exe',\n",
       " 'Raw data',\n",
       " 'Resume 11212018.docx',\n",
       " 'upgrade docs',\n",
       " 'vlc-3.0.21-win32.exe',\n",
       " 'VSCodeUserSetup-x64-1.98.2(1).exe',\n",
       " 'VSCodeUserSetup-x64-1.98.2.exe',\n",
       " 'w5 - Course Project_ File Handling-20250318T055030Z-001']"
      ]
     },
     "execution_count": 13,
     "metadata": {},
     "output_type": "execute_result"
    }
   ],
   "source": [
    "import os\n",
    "os.listdir()"
   ]
  },
  {
   "cell_type": "code",
   "execution_count": 15,
   "id": "5a5b41da",
   "metadata": {},
   "outputs": [],
   "source": [
    "# Read in the \"Employee_Specifics.csv\" file as a Pandas Data Frame\n",
    "# Note: Make sure the code and the data are in the same folder or specify the appropriate path\n",
    "df = pd.read_csv('Employee_Specifics.csv', index_col = 0)"
   ]
  },
  {
   "cell_type": "code",
   "execution_count": 17,
   "id": "dd087c02",
   "metadata": {},
   "outputs": [
    {
     "data": {
      "text/html": [
       "<div>\n",
       "<style scoped>\n",
       "    .dataframe tbody tr th:only-of-type {\n",
       "        vertical-align: middle;\n",
       "    }\n",
       "\n",
       "    .dataframe tbody tr th {\n",
       "        vertical-align: top;\n",
       "    }\n",
       "\n",
       "    .dataframe thead th {\n",
       "        text-align: right;\n",
       "    }\n",
       "</style>\n",
       "<table border=\"1\" class=\"dataframe\">\n",
       "  <thead>\n",
       "    <tr style=\"text-align: right;\">\n",
       "      <th></th>\n",
       "      <th>Name</th>\n",
       "      <th>Department</th>\n",
       "      <th>Compensation</th>\n",
       "      <th>Rating</th>\n",
       "    </tr>\n",
       "    <tr>\n",
       "      <th>Employee ID</th>\n",
       "      <th></th>\n",
       "      <th></th>\n",
       "      <th></th>\n",
       "      <th></th>\n",
       "    </tr>\n",
       "  </thead>\n",
       "  <tbody>\n",
       "    <tr>\n",
       "      <th>18726</th>\n",
       "      <td>Tom</td>\n",
       "      <td>Sales</td>\n",
       "      <td>865212</td>\n",
       "      <td>4</td>\n",
       "    </tr>\n",
       "    <tr>\n",
       "      <th>20016</th>\n",
       "      <td>Gautam</td>\n",
       "      <td>Content</td>\n",
       "      <td>734732</td>\n",
       "      <td>5</td>\n",
       "    </tr>\n",
       "    <tr>\n",
       "      <th>31054</th>\n",
       "      <td>Devaki</td>\n",
       "      <td>Sales</td>\n",
       "      <td>781113</td>\n",
       "      <td>3</td>\n",
       "    </tr>\n",
       "    <tr>\n",
       "      <th>35363</th>\n",
       "      <td>Oliver</td>\n",
       "      <td>Technology</td>\n",
       "      <td>800212</td>\n",
       "      <td>4</td>\n",
       "    </tr>\n",
       "    <tr>\n",
       "      <th>37629</th>\n",
       "      <td>Manisha</td>\n",
       "      <td>Editing</td>\n",
       "      <td>754871</td>\n",
       "      <td>4</td>\n",
       "    </tr>\n",
       "  </tbody>\n",
       "</table>\n",
       "</div>"
      ],
      "text/plain": [
       "                Name  Department  Compensation  Rating\n",
       "Employee ID                                           \n",
       "18726            Tom       Sales        865212       4\n",
       "20016         Gautam     Content        734732       5\n",
       "31054         Devaki       Sales        781113       3\n",
       "35363         Oliver  Technology        800212       4\n",
       "37629        Manisha     Editing        754871       4"
      ]
     },
     "execution_count": 17,
     "metadata": {},
     "output_type": "execute_result"
    }
   ],
   "source": [
    "# Take a brief look at the data using \".head()\"\n",
    "df.head()"
   ]
  },
  {
   "cell_type": "code",
   "execution_count": 43,
   "id": "ce4a5fa6",
   "metadata": {},
   "outputs": [
    {
     "name": "stdout",
     "output_type": "stream",
     "text": [
      "The \"Employee_Specifics.csv\" data is a completely fabricated data set for use only on the upGrad platform.\n",
      "\n",
      "Any resemblance to entities past, present or future is merely a coincidence.\n",
      "\n",
      "\n",
      "\n",
      "Feature Description:\n",
      "\n",
      "Employee ID = unique whole number assigned to an employee for the purpose of identification\n",
      "\n",
      "Name = first name of the employee\n",
      "\n",
      "Department = department in which the employee works\n",
      "\n",
      "Compensation = compensation offered to the employee in rupees\n",
      "\n",
      "Rating = rating given on a scale of 1 to 5 to an employee based on their work\n",
      "\n",
      "\n"
     ]
    }
   ],
   "source": [
    "# Study the description of the data\n",
    "# Note: Make sure the code and the data description are in the same folder or specify the appropriate path\n",
    "with open('Employee_Specifics_Feature_Description.txt', 'r') as f:\n",
    "    print(f.read())"
   ]
  },
  {
   "cell_type": "code",
   "execution_count": 21,
   "id": "fb53d005",
   "metadata": {},
   "outputs": [
    {
     "data": {
      "text/plain": [
       "(20, 4)"
      ]
     },
     "execution_count": 21,
     "metadata": {},
     "output_type": "execute_result"
    }
   ],
   "source": [
    "# Get the dimensions of the data frame using \".shape\"\n",
    "df.shape"
   ]
  },
  {
   "cell_type": "code",
   "execution_count": 25,
   "id": "1387d873",
   "metadata": {},
   "outputs": [
    {
     "data": {
      "text/plain": [
       "Index([18726, 20016, 31054, 35363, 37629, 37654, 38801, 40196, 41126, 42871,\n",
       "       43328, 50898, 52432, 53648, 67754, 70105, 72186, 76683, 80157, 87657],\n",
       "      dtype='int64', name='Employee ID')"
      ]
     },
     "execution_count": 25,
     "metadata": {},
     "output_type": "execute_result"
    }
   ],
   "source": [
    "# Get the row names of the data frame using \".index\"\n",
    "df.index"
   ]
  },
  {
   "cell_type": "code",
   "execution_count": 23,
   "id": "9a4799ef",
   "metadata": {},
   "outputs": [
    {
     "data": {
      "text/plain": [
       "Index(['Name', 'Department', 'Compensation', 'Rating'], dtype='object')"
      ]
     },
     "execution_count": 23,
     "metadata": {},
     "output_type": "execute_result"
    }
   ],
   "source": [
    "# Get the column names of the data frame using \".columns\"\n",
    "df.columns"
   ]
  },
  {
   "cell_type": "code",
   "execution_count": 27,
   "id": "19ba056d",
   "metadata": {},
   "outputs": [
    {
     "name": "stdout",
     "output_type": "stream",
     "text": [
      "<class 'pandas.core.frame.DataFrame'>\n",
      "Index: 20 entries, 18726 to 87657\n",
      "Data columns (total 4 columns):\n",
      " #   Column        Non-Null Count  Dtype \n",
      "---  ------        --------------  ----- \n",
      " 0   Name          20 non-null     object\n",
      " 1   Department    20 non-null     object\n",
      " 2   Compensation  20 non-null     int64 \n",
      " 3   Rating        20 non-null     int64 \n",
      "dtypes: int64(2), object(2)\n",
      "memory usage: 800.0+ bytes\n"
     ]
    }
   ],
   "source": [
    "# Look at basic information about the data frame using \".info()\"\n",
    "df.info()"
   ]
  },
  {
   "cell_type": "code",
   "execution_count": null,
   "id": "c8722d6f",
   "metadata": {},
   "outputs": [],
   "source": [
    "# Observations\n",
    "\n",
    "# There are 20 rows and 4 columns in the data\n",
    "# Each row contains the employee specifics of a certain employee in the company\n",
    "\n",
    "# The features in the data set are: \n",
    "# The names of the employees\n",
    "# Their respective departments\n",
    "# Their compensations in rupees\n",
    "# Their ratings on a scale of 1 to 5"
   ]
  },
  {
   "cell_type": "code",
   "execution_count": null,
   "id": "3cb352cb",
   "metadata": {},
   "outputs": [],
   "source": [
    "###########################################################################"
   ]
  },
  {
   "cell_type": "code",
   "execution_count": null,
   "id": "99dfa35c",
   "metadata": {},
   "outputs": [],
   "source": [
    "# Task 2 - Visualise the distributions of ratings and compensations\n",
    "\n",
    "# We will now visualise the distributions of employee ratings and compensations\n",
    "\n",
    "# We will create the following plots:\n",
    "# A scatter plot of employee rating and employee compensation\n",
    "# A count plot of employee rating\n",
    "# A histogram of employee compensation\n",
    "\n",
    "# We will use these plots to decide rating and compensation thresholds"
   ]
  },
  {
   "cell_type": "code",
   "execution_count": 29,
   "id": "be3503c4",
   "metadata": {},
   "outputs": [
    {
     "data": {
      "image/png": "[encoded data removed]",
      "text/plain": [
       "<Figure size 800x400 with 1 Axes>"
      ]
     },
     "metadata": {},
     "output_type": "display_data"
    }
   ],
   "source": [
    "# Create a scatter plot of the \"Rating\" and \"Compensation\" features\n",
    "plt.figure(figsize = (8, 4), dpi= 100)\n",
    "sns.scatterplot(data = df, x = 'Rating', y = 'Compensation', alpha = 0.5, color = 'blue', edgecolor = 'linen')\n",
    "plt.title('Scatter Plot of Employee Rating and Employee Compensation')\n",
    "plt.xlabel('Employe Rating out of 5')\n",
    "plt.ylabel('Employee Compensation in rupees');\n",
    "# We observe that in general, as employee ratings increase, their compensation increases as well\n",
    "# But there are quite a few employees with higher ratings who are getting lower compensations"
   ]
  },
  {
   "cell_type": "code",
   "execution_count": 31,
   "id": "835307e7",
   "metadata": {},
   "outputs": [
    {
     "data": {
      "image/png": "[encoded data removed]",
      "text/plain": [
       "<Figure size 600x300 with 1 Axes>"
      ]
     },
     "metadata": {},
     "output_type": "display_data"
    }
   ],
   "source": [
    "# Create a count plot of the \"Rating\" feature\n",
    "plt.figure(figsize = (6, 3), dpi= 100)\n",
    "sns.countplot(data = df, x = 'Rating', alpha = 0.5, edgecolor = 'linen')\n",
    "plt.title('Count Plot of Employee Rating')\n",
    "plt.xlabel('Employee Rating')\n",
    "plt.ylabel('Count');\n",
    "# We see that most employees either have a 4 or a 5 rating, with 4 being the most frequent or typical\n",
    "# It would make sense to define any rating more than 4 as high; in this case, that would be a 5 rating"
   ]
  },
  {
   "cell_type": "code",
   "execution_count": 33,
   "id": "57d5a385",
   "metadata": {},
   "outputs": [
    {
     "data": {
      "image/png": "[encoded data removed]",
      "text/plain": [
       "<Figure size 600x300 with 1 Axes>"
      ]
     },
     "metadata": {},
     "output_type": "display_data"
    }
   ],
   "source": [
    "# Create a histogram of the \"Compensation\" feature\n",
    "plt.figure(figsize = (6, 3), dpi= 100)\n",
    "sns.histplot(data = df, x = 'Compensation', color = 'orange', edgecolor = 'linen', alpha = 0.5, bins = 10)\n",
    "plt.title('Histogram of Employee Compensation')\n",
    "plt.xlabel('Employee Compensation in rupees')\n",
    "plt.ylabel('Count');\n",
    "# We see that the compensations are not uniform, which is not necessarily a discrepancy\n",
    "# But we do observe that there are a few employees with compensations on either extremities of the histogram\n",
    "# Based on the histogram, any compensation less than 7,00,000 rupees could be considered as a lower compensation"
   ]
  },
  {
   "cell_type": "code",
   "execution_count": null,
   "id": "d7a807e7",
   "metadata": {},
   "outputs": [],
   "source": [
    "# Observations\n",
    "\n",
    "# Generally, as the employee ratings increase, there is an increase in the employee compensations\n",
    "# However, the employee compensation values are more spread out for higher employee ratings\n",
    "# An employee rating of 5 (which is the only rating greater than 4) can be considered as a high rating\n",
    "# An employee compensation less than 7,00,000 rupees can be considered as a lower compensation"
   ]
  },
  {
   "cell_type": "code",
   "execution_count": null,
   "id": "09749d13",
   "metadata": {},
   "outputs": [],
   "source": [
    "###########################################################################"
   ]
  },
  {
   "cell_type": "code",
   "execution_count": null,
   "id": "7733004b",
   "metadata": {},
   "outputs": [],
   "source": [
    "# Task 3 - Subset the data based on thresholds\n",
    "\n",
    "# We will now subset the original data frame based on the following conditions:\n",
    "# Employees with ratings greater than 4\n",
    "# Employees with compensations less than 7,00,000 rupees\n",
    "# Employees with ratings greater than 4 and with compensations less than 7,00,000 rupees"
   ]
  },
  {
   "cell_type": "code",
   "execution_count": 35,
   "id": "eda55292",
   "metadata": {},
   "outputs": [
    {
     "data": {
      "text/html": [
       "<div>\n",
       "<style scoped>\n",
       "    .dataframe tbody tr th:only-of-type {\n",
       "        vertical-align: middle;\n",
       "    }\n",
       "\n",
       "    .dataframe tbody tr th {\n",
       "        vertical-align: top;\n",
       "    }\n",
       "\n",
       "    .dataframe thead th {\n",
       "        text-align: right;\n",
       "    }\n",
       "</style>\n",
       "<table border=\"1\" class=\"dataframe\">\n",
       "  <thead>\n",
       "    <tr style=\"text-align: right;\">\n",
       "      <th></th>\n",
       "      <th>Name</th>\n",
       "      <th>Department</th>\n",
       "      <th>Compensation</th>\n",
       "      <th>Rating</th>\n",
       "    </tr>\n",
       "    <tr>\n",
       "      <th>Employee ID</th>\n",
       "      <th></th>\n",
       "      <th></th>\n",
       "      <th></th>\n",
       "      <th></th>\n",
       "    </tr>\n",
       "  </thead>\n",
       "  <tbody>\n",
       "    <tr>\n",
       "      <th>20016</th>\n",
       "      <td>Gautam</td>\n",
       "      <td>Content</td>\n",
       "      <td>734732</td>\n",
       "      <td>5</td>\n",
       "    </tr>\n",
       "    <tr>\n",
       "      <th>37654</th>\n",
       "      <td>Jenny</td>\n",
       "      <td>Content</td>\n",
       "      <td>1176526</td>\n",
       "      <td>5</td>\n",
       "    </tr>\n",
       "    <tr>\n",
       "      <th>40196</th>\n",
       "      <td>Rohan</td>\n",
       "      <td>Content</td>\n",
       "      <td>991872</td>\n",
       "      <td>5</td>\n",
       "    </tr>\n",
       "    <tr>\n",
       "      <th>43328</th>\n",
       "      <td>Aneesha</td>\n",
       "      <td>Sales</td>\n",
       "      <td>611783</td>\n",
       "      <td>5</td>\n",
       "    </tr>\n",
       "    <tr>\n",
       "      <th>53648</th>\n",
       "      <td>Richa</td>\n",
       "      <td>Technology</td>\n",
       "      <td>1261175</td>\n",
       "      <td>5</td>\n",
       "    </tr>\n",
       "    <tr>\n",
       "      <th>70105</th>\n",
       "      <td>Donald</td>\n",
       "      <td>Sales</td>\n",
       "      <td>1376907</td>\n",
       "      <td>5</td>\n",
       "    </tr>\n",
       "    <tr>\n",
       "      <th>72186</th>\n",
       "      <td>Ganesh</td>\n",
       "      <td>Content</td>\n",
       "      <td>1510872</td>\n",
       "      <td>5</td>\n",
       "    </tr>\n",
       "    <tr>\n",
       "      <th>80157</th>\n",
       "      <td>Nishanth</td>\n",
       "      <td>Sales</td>\n",
       "      <td>1011783</td>\n",
       "      <td>5</td>\n",
       "    </tr>\n",
       "  </tbody>\n",
       "</table>\n",
       "</div>"
      ],
      "text/plain": [
       "                 Name  Department  Compensation  Rating\n",
       "Employee ID                                            \n",
       "20016          Gautam     Content        734732       5\n",
       "37654           Jenny     Content       1176526       5\n",
       "40196           Rohan     Content        991872       5\n",
       "43328         Aneesha       Sales        611783       5\n",
       "53648           Richa  Technology       1261175       5\n",
       "70105          Donald       Sales       1376907       5\n",
       "72186          Ganesh     Content       1510872       5\n",
       "80157        Nishanth       Sales       1011783       5"
      ]
     },
     "execution_count": 35,
     "metadata": {},
     "output_type": "execute_result"
    }
   ],
   "source": [
    "# Subset the original data frame to contain only the entries with:\n",
    "# Employee rating greater than 4\n",
    "df[df['Rating'] > 4]"
   ]
  },
  {
   "cell_type": "code",
   "execution_count": 37,
   "id": "fd51d629",
   "metadata": {},
   "outputs": [
    {
     "data": {
      "text/html": [
       "<div>\n",
       "<style scoped>\n",
       "    .dataframe tbody tr th:only-of-type {\n",
       "        vertical-align: middle;\n",
       "    }\n",
       "\n",
       "    .dataframe tbody tr th {\n",
       "        vertical-align: top;\n",
       "    }\n",
       "\n",
       "    .dataframe thead th {\n",
       "        text-align: right;\n",
       "    }\n",
       "</style>\n",
       "<table border=\"1\" class=\"dataframe\">\n",
       "  <thead>\n",
       "    <tr style=\"text-align: right;\">\n",
       "      <th></th>\n",
       "      <th>Name</th>\n",
       "      <th>Department</th>\n",
       "      <th>Compensation</th>\n",
       "      <th>Rating</th>\n",
       "    </tr>\n",
       "    <tr>\n",
       "      <th>Employee ID</th>\n",
       "      <th></th>\n",
       "      <th></th>\n",
       "      <th></th>\n",
       "      <th></th>\n",
       "    </tr>\n",
       "  </thead>\n",
       "  <tbody>\n",
       "    <tr>\n",
       "      <th>42871</th>\n",
       "      <td>Zohaib</td>\n",
       "      <td>Editing</td>\n",
       "      <td>409821</td>\n",
       "      <td>2</td>\n",
       "    </tr>\n",
       "    <tr>\n",
       "      <th>43328</th>\n",
       "      <td>Aneesha</td>\n",
       "      <td>Sales</td>\n",
       "      <td>611783</td>\n",
       "      <td>5</td>\n",
       "    </tr>\n",
       "    <tr>\n",
       "      <th>67754</th>\n",
       "      <td>Habib</td>\n",
       "      <td>Sales</td>\n",
       "      <td>655730</td>\n",
       "      <td>4</td>\n",
       "    </tr>\n",
       "    <tr>\n",
       "      <th>87657</th>\n",
       "      <td>Gerald</td>\n",
       "      <td>Content</td>\n",
       "      <td>585037</td>\n",
       "      <td>3</td>\n",
       "    </tr>\n",
       "  </tbody>\n",
       "</table>\n",
       "</div>"
      ],
      "text/plain": [
       "                Name Department  Compensation  Rating\n",
       "Employee ID                                          \n",
       "42871         Zohaib    Editing        409821       2\n",
       "43328        Aneesha      Sales        611783       5\n",
       "67754          Habib      Sales        655730       4\n",
       "87657         Gerald    Content        585037       3"
      ]
     },
     "execution_count": 37,
     "metadata": {},
     "output_type": "execute_result"
    }
   ],
   "source": [
    "# Subest the original data frame to contain only the entries with:\n",
    "# Compensation less than 7,00,000 rupees\n",
    "df[df['Compensation'] < 700000]"
   ]
  },
  {
   "cell_type": "code",
   "execution_count": 39,
   "id": "72569a3a",
   "metadata": {},
   "outputs": [
    {
     "data": {
      "text/html": [
       "<div>\n",
       "<style scoped>\n",
       "    .dataframe tbody tr th:only-of-type {\n",
       "        vertical-align: middle;\n",
       "    }\n",
       "\n",
       "    .dataframe tbody tr th {\n",
       "        vertical-align: top;\n",
       "    }\n",
       "\n",
       "    .dataframe thead th {\n",
       "        text-align: right;\n",
       "    }\n",
       "</style>\n",
       "<table border=\"1\" class=\"dataframe\">\n",
       "  <thead>\n",
       "    <tr style=\"text-align: right;\">\n",
       "      <th></th>\n",
       "      <th>Name</th>\n",
       "      <th>Department</th>\n",
       "      <th>Compensation</th>\n",
       "      <th>Rating</th>\n",
       "    </tr>\n",
       "    <tr>\n",
       "      <th>Employee ID</th>\n",
       "      <th></th>\n",
       "      <th></th>\n",
       "      <th></th>\n",
       "      <th></th>\n",
       "    </tr>\n",
       "  </thead>\n",
       "  <tbody>\n",
       "    <tr>\n",
       "      <th>43328</th>\n",
       "      <td>Aneesha</td>\n",
       "      <td>Sales</td>\n",
       "      <td>611783</td>\n",
       "      <td>5</td>\n",
       "    </tr>\n",
       "  </tbody>\n",
       "</table>\n",
       "</div>"
      ],
      "text/plain": [
       "                Name Department  Compensation  Rating\n",
       "Employee ID                                          \n",
       "43328        Aneesha      Sales        611783       5"
      ]
     },
     "execution_count": 39,
     "metadata": {},
     "output_type": "execute_result"
    }
   ],
   "source": [
    "# Subest the original data frame to contain only the entries with:\n",
    "# Employee rating greater than 4\n",
    "# Compensation less than 7,00,000 rupees\n",
    "df[(df['Rating'] > 4) & (df['Compensation'] < 700000)]"
   ]
  },
  {
   "cell_type": "code",
   "execution_count": null,
   "id": "d14114a8",
   "metadata": {},
   "outputs": [],
   "source": [
    "# Observations\n",
    "\n",
    "# The only employee seemingly facing a discrepancy in compensation as compared to rating is Aneesha\n",
    "# She has a rating of 5 but only has a compensation of 6,11,783 rupees"
   ]
  },
  {
   "cell_type": "code",
   "execution_count": null,
   "id": "13858ceb",
   "metadata": {},
   "outputs": [],
   "source": [
    "###########################################################################"
   ]
  },
  {
   "cell_type": "code",
   "execution_count": null,
   "id": "2a3e6234",
   "metadata": {},
   "outputs": [],
   "source": [
    "# Conclusions\n",
    "\n",
    "# From the given data, we can use simple visualisations to get a sense of how data are distributed\n",
    "# We can conduct preliminary analyses simply by subsetting data sets using well thought out thresholds and conditions"
   ]
  },
  {
   "cell_type": "code",
   "execution_count": null,
   "id": "72fd191c",
   "metadata": {},
   "outputs": [],
   "source": [
    "###########################################################################"
   ]
  }
 ],
 "metadata": {
  "kernelspec": {
   "display_name": "Python [conda env:base] *",
   "language": "python",
   "name": "conda-base-py"
  },
  "language_info": {
   "codemirror_mode": {
    "name": "ipython",
    "version": 3
   },
   "file_extension": ".py",
   "mimetype": "text/x-python",
   "name": "python",
   "nbconvert_exporter": "python",
   "pygments_lexer": "ipython3",
   "version": "3.12.7"
  }
 },
 "nbformat": 4,
 "nbformat_minor": 5
}
