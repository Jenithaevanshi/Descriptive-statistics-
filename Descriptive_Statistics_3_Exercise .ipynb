{
 "cells": [
  {
   "cell_type": "code",
   "execution_count": null,
   "id": "b0caf6b1",
   "metadata": {},
   "outputs": [],
   "source": [
    "###########################################################################"
   ]
  },
  {
   "cell_type": "code",
   "execution_count": null,
   "id": "ae5edc6d",
   "metadata": {},
   "outputs": [],
   "source": [
    "# Introduction\n",
    "\n",
    "# This Jupyter notebook is part of your learning experience in the study of quantiles\n",
    "# You will work with a simple data set that contains the scores of job applicants in an entrance test\n",
    "\n",
    "# In this exercise, you will perform the following tasks:\n",
    "# 1 - Load and study the data\n",
    "# 2 - View the distributions of the various features in the data set and break them into categories using quantiles\n",
    "# 3 - Subset the data using the quantiles decided to separate the applicants into three categories"
   ]
  },
  {
   "cell_type": "code",
   "execution_count": null,
   "id": "3d168ba5",
   "metadata": {},
   "outputs": [],
   "source": [
    "###########################################################################"
   ]
  },
  {
   "cell_type": "code",
   "execution_count": null,
   "id": "96f75842",
   "metadata": {},
   "outputs": [],
   "source": [
    "# Task 1 - Load and study the data\n",
    "\n",
    "# Load the data and study its features such as:\n",
    "# The number of applicants\n",
    "# The number of features\n",
    "# The types of features"
   ]
  },
  {
   "cell_type": "code",
   "execution_count": 4,
   "id": "33884073",
   "metadata": {},
   "outputs": [],
   "source": [
    "# Load \"numpy\" and \"pandas\" for manipulating numbers and data frames\n",
    "# Load \"matplotlib.pyplot\" and \"seaborn\" for data visualisation\n",
    "import numpy as np\n",
    "import pandas as pd\n",
    "import matplotlib.pyplot as plt\n",
    "import seaborn as sns"
   ]
  },
  {
   "cell_type": "code",
   "execution_count": 10,
   "id": "6da1963a",
   "metadata": {},
   "outputs": [],
   "source": [
    "# Read in the \"Interview_First_Stage_Exam.csv\" file as a Pandas Data Frame\n",
    "# Note: Make sure the code and the data are in the same folder or specify the appropriate path\n",
    "df = pd.read_csv('Interview_First_Stage_Exam (3).csv', index_col = 0)"
   ]
  },
  {
   "cell_type": "code",
   "execution_count": 12,
   "id": "85e9af90",
   "metadata": {},
   "outputs": [
    {
     "data": {
      "text/html": [
       "<div>\n",
       "<style scoped>\n",
       "    .dataframe tbody tr th:only-of-type {\n",
       "        vertical-align: middle;\n",
       "    }\n",
       "\n",
       "    .dataframe tbody tr th {\n",
       "        vertical-align: top;\n",
       "    }\n",
       "\n",
       "    .dataframe thead th {\n",
       "        text-align: right;\n",
       "    }\n",
       "</style>\n",
       "<table border=\"1\" class=\"dataframe\">\n",
       "  <thead>\n",
       "    <tr style=\"text-align: right;\">\n",
       "      <th></th>\n",
       "      <th>Name</th>\n",
       "      <th>English</th>\n",
       "      <th>Mathematics</th>\n",
       "      <th>Programming</th>\n",
       "    </tr>\n",
       "    <tr>\n",
       "      <th>AID</th>\n",
       "      <th></th>\n",
       "      <th></th>\n",
       "      <th></th>\n",
       "      <th></th>\n",
       "    </tr>\n",
       "  </thead>\n",
       "  <tbody>\n",
       "    <tr>\n",
       "      <th>2021001</th>\n",
       "      <td>Anirudh</td>\n",
       "      <td>77</td>\n",
       "      <td>91</td>\n",
       "      <td>85</td>\n",
       "    </tr>\n",
       "    <tr>\n",
       "      <th>2021002</th>\n",
       "      <td>Kamala</td>\n",
       "      <td>73</td>\n",
       "      <td>74</td>\n",
       "      <td>80</td>\n",
       "    </tr>\n",
       "    <tr>\n",
       "      <th>2021003</th>\n",
       "      <td>Pramod</td>\n",
       "      <td>45</td>\n",
       "      <td>43</td>\n",
       "      <td>55</td>\n",
       "    </tr>\n",
       "    <tr>\n",
       "      <th>2021004</th>\n",
       "      <td>Alisha</td>\n",
       "      <td>65</td>\n",
       "      <td>29</td>\n",
       "      <td>63</td>\n",
       "    </tr>\n",
       "    <tr>\n",
       "      <th>2021005</th>\n",
       "      <td>Taufeeq</td>\n",
       "      <td>81</td>\n",
       "      <td>32</td>\n",
       "      <td>76</td>\n",
       "    </tr>\n",
       "  </tbody>\n",
       "</table>\n",
       "</div>"
      ],
      "text/plain": [
       "            Name  English  Mathematics  Programming\n",
       "AID                                                \n",
       "2021001  Anirudh       77           91           85\n",
       "2021002   Kamala       73           74           80\n",
       "2021003   Pramod       45           43           55\n",
       "2021004   Alisha       65           29           63\n",
       "2021005  Taufeeq       81           32           76"
      ]
     },
     "execution_count": 12,
     "metadata": {},
     "output_type": "execute_result"
    }
   ],
   "source": [
    "# Take a brief look at the data using \".head()\"\n",
    "########## CODE HERE ##########\n",
    "df.head()"
   ]
  },
  {
   "cell_type": "code",
   "execution_count": 14,
   "id": "87459c40-abbf-4aac-a5a3-38b3f80b60f2",
   "metadata": {},
   "outputs": [
    {
     "data": {
      "text/plain": [
       "['.ipynb_checkpoints',\n",
       " '0001013840003673375_03152025_04042025.PDF',\n",
       " 'Anaconda3-2024.10-1-Windows-x86_64.exe',\n",
       " 'Assignment on String_upGrad1.pdf.pdf',\n",
       " 'Assignment.pdf',\n",
       " 'Buffet_Details.csv',\n",
       " 'Buffet_Details_Feature_Description.txt',\n",
       " 'Case+Study+Notebook (1)',\n",
       " 'codeblocks-20.03mingw-setup.exe',\n",
       " 'Course Project_ File Handling [exercise] (2).ipynb.ipynb',\n",
       " 'Course Project_ File Handling [exercise].ipynb',\n",
       " 'Course_Project_File_Handling_[solution]',\n",
       " 'Course_Project_File_Handling_[solution].zip',\n",
       " 'Descriptive_Statistics_1_Solution (2).ipynb',\n",
       " 'Descriptive_Statistics_2_Exercise (3) (1).ipynb',\n",
       " 'Descriptive_Statistics_2_Exercise (3).ipynb',\n",
       " 'Descriptive_Statistics_2_Solution (3).ipynb',\n",
       " 'Descriptive_Statistics_3_Exercise (1).ipynb',\n",
       " 'Descriptive_Statistics_3_Solution (1).ipynb',\n",
       " 'desktop.ini',\n",
       " 'doubt(1)(1).ipynb',\n",
       " 'doubt(1).ipynb',\n",
       " 'doubt.ipynb',\n",
       " 'Employee_Specifics.csv',\n",
       " 'Employee_Specifics_Feature_Description.txt',\n",
       " 'File handling project',\n",
       " 'File handling project.zip',\n",
       " 'Git-2.48.1-64-bit.exe',\n",
       " 'Git-2.49.0-64-bit.exe',\n",
       " 'git-sdk-installer-1.0.8-32.7z.exe',\n",
       " 'GitHubDesktopSetup-x64.exe',\n",
       " 'gvim_9.1.0_x64_signed.exe',\n",
       " 'Interview_First_Stage_Exam (3).csv',\n",
       " 'Interview_First_Stage_Exam_Feature_Description.txt',\n",
       " 'jeni',\n",
       " 'mainfolder',\n",
       " 'mainfolder.zip',\n",
       " 'other exercise upgrade',\n",
       " 'Pandas+Notebook+II.ipynb',\n",
       " 'Pandas+Notebook+III.ipynb',\n",
       " 'pandas_abhisheak',\n",
       " 'Practice+Questions+-+Session+2 (1)',\n",
       " 'Practice+Questions+-+Session+2 (1).zip',\n",
       " 'Practice+Questions+-+Session+2+(Solution) (1) (1)',\n",
       " 'project jeni.ipynb',\n",
       " 'python programming',\n",
       " 'python-3.12.0-amd64.exe',\n",
       " 'python-3.12.4-amd64.exe',\n",
       " 'Raw data',\n",
       " 'Resume 11212018.docx',\n",
       " 'upgrade docs',\n",
       " 'vlc-3.0.21-win32.exe',\n",
       " 'VSCodeUserSetup-x64-1.98.2(1).exe',\n",
       " 'VSCodeUserSetup-x64-1.98.2.exe',\n",
       " 'w5 - Course Project_ File Handling-20250318T055030Z-001']"
      ]
     },
     "execution_count": 14,
     "metadata": {},
     "output_type": "execute_result"
    }
   ],
   "source": [
    "import os\n",
    "os.listdir()"
   ]
  },
  {
   "cell_type": "code",
   "execution_count": 16,
   "id": "5576f4c4",
   "metadata": {},
   "outputs": [
    {
     "name": "stdout",
     "output_type": "stream",
     "text": [
      "The \"Interview_First_Stage_Exam.csv\" data is a completely fabricated data set for use only on the upGrad platform.\n",
      "\n",
      "Any resemblance to entities past, present or future is merely a coincidence.\n",
      "\n",
      "Feature Description:\n",
      "AID = unique whole number assigned to a job applicant for the purpose of identification\n",
      "Name = first name of the applicant\n",
      "English = marks obtained out of 100 in the English test\n",
      "Mathematics = marks obtained out of 100 in the mathematics test\n",
      "Pogramming = marks obtained out of 100 in the programming test\n"
     ]
    }
   ],
   "source": [
    "# Study the description of the data\n",
    "# Note: Make sure the code and the data description are in the same folder or specify the appropriate path\n",
    "with open('Interview_First_Stage_Exam_Feature_Description.txt', 'r') as f:\n",
    "    print(f.read())"
   ]
  },
  {
   "cell_type": "code",
   "execution_count": 18,
   "id": "ee1f5ee7",
   "metadata": {},
   "outputs": [
    {
     "data": {
      "text/plain": [
       "(50, 4)"
      ]
     },
     "execution_count": 18,
     "metadata": {},
     "output_type": "execute_result"
    }
   ],
   "source": [
    "# Get the dimensions of the data frame using \".shape\"\n",
    "########## CODE HERE ##########\n",
    "df.shape"
   ]
  },
  {
   "cell_type": "code",
   "execution_count": 20,
   "id": "8cbf5ba2",
   "metadata": {},
   "outputs": [
    {
     "data": {
      "text/plain": [
       "Index([2021001, 2021002, 2021003, 2021004, 2021005, 2021006, 2021007, 2021008,\n",
       "       2021009, 2021010, 2021011, 2021012, 2021013, 2021014, 2021015, 2021016,\n",
       "       2021017, 2021018, 2021019, 2021020, 2021021, 2021022, 2021023, 2021024,\n",
       "       2021025, 2021026, 2021027, 2021028, 2021029, 2021030, 2021031, 2021032,\n",
       "       2021033, 2021034, 2021035, 2021036, 2021037, 2021038, 2021039, 2021040,\n",
       "       2021041, 2021042, 2021043, 2021044, 2021045, 2021046, 2021047, 2021048,\n",
       "       2021049, 2021050],\n",
       "      dtype='int64', name='AID')"
      ]
     },
     "execution_count": 20,
     "metadata": {},
     "output_type": "execute_result"
    }
   ],
   "source": [
    "# Get the row names of the data frame using \".index\"\n",
    "########## CODE HERE ##########\n",
    "df.index"
   ]
  },
  {
   "cell_type": "code",
   "execution_count": 22,
   "id": "fa9b402e",
   "metadata": {},
   "outputs": [
    {
     "data": {
      "text/plain": [
       "Index(['Name', 'English', 'Mathematics', 'Programming'], dtype='object')"
      ]
     },
     "execution_count": 22,
     "metadata": {},
     "output_type": "execute_result"
    }
   ],
   "source": [
    "# Get the column names of the data frame using \".columns\"\n",
    "########## CODE HERE ##########\n",
    "df.columns"
   ]
  },
  {
   "cell_type": "code",
   "execution_count": 24,
   "id": "252824c9",
   "metadata": {},
   "outputs": [
    {
     "name": "stdout",
     "output_type": "stream",
     "text": [
      "<class 'pandas.core.frame.DataFrame'>\n",
      "Index: 50 entries, 2021001 to 2021050\n",
      "Data columns (total 4 columns):\n",
      " #   Column       Non-Null Count  Dtype \n",
      "---  ------       --------------  ----- \n",
      " 0   Name         50 non-null     object\n",
      " 1   English      50 non-null     int64 \n",
      " 2   Mathematics  50 non-null     int64 \n",
      " 3   Programming  50 non-null     int64 \n",
      "dtypes: int64(3), object(1)\n",
      "memory usage: 2.0+ KB\n"
     ]
    }
   ],
   "source": [
    "# Look at basic information about the data frame using \".info()\"\n",
    "########## CODE HERE ##########\n",
    "df.info()"
   ]
  },
  {
   "cell_type": "code",
   "execution_count": null,
   "id": "32f15e2a",
   "metadata": {},
   "outputs": [],
   "source": [
    "# Observations\n",
    "\n",
    "# There are 50 rows and 4 columns in the data\n",
    "# Each row contains the marks obtained out of 100 by a specific applicant in English, Mathematics and Programming\n",
    "\n",
    "# The features in the data set are:\n",
    "# The names of the applicants\n",
    "# Their marks obtained out of 100 in English\n",
    "# Their marks obtained out of 100 in mathematics\n",
    "# Their marks obtained out of 100 in programming"
   ]
  },
  {
   "cell_type": "code",
   "execution_count": null,
   "id": "6f1006e3",
   "metadata": {},
   "outputs": [],
   "source": [
    "###########################################################################"
   ]
  },
  {
   "cell_type": "code",
   "execution_count": null,
   "id": "5c4ed219",
   "metadata": {},
   "outputs": [],
   "source": [
    "# Task 2 - View the distributions of the various features in the data set and break them into categories using quantiles\n",
    "\n",
    "# We will now look at the distributions of the marks obtained by the applicants in the three subjects\n",
    "# We will also use quantiles to divide the distribution into groups"
   ]
  },
  {
   "cell_type": "code",
   "execution_count": 28,
   "id": "ea900fa4",
   "metadata": {},
   "outputs": [
    {
     "data": {
      "text/plain": [
       "58.5"
      ]
     },
     "execution_count": 28,
     "metadata": {},
     "output_type": "execute_result"
    }
   ],
   "source": [
    "# Calculate the median \"English\" feature using \".median()\"\n",
    "########## CODE HERE ##########\n",
    "df['English'].median()  #using numpy"
   ]
  },
  {
   "cell_type": "code",
   "execution_count": 30,
   "id": "350911bf",
   "metadata": {},
   "outputs": [
    {
     "data": {
      "image/png": "[encoded data removed]",
      "text/plain": [
       "<Figure size 600x300 with 1 Axes>"
      ]
     },
     "metadata": {},
     "output_type": "display_data"
    }
   ],
   "source": [
    "# Create a histogram of the \"English\" feature and also show the median\n",
    "plt.figure(figsize = (6, 3), dpi= 100)\n",
    "sns.histplot(data = df, x = 'English', color = 'orange', edgecolor = 'linen', alpha = 0.5, bins = 10)\n",
    "plt.vlines(x = df['English'].median(), ymin = 0, ymax = 8, colors = 'red')\n",
    "plt.title('Histogram of Marks Obtained in English')\n",
    "plt.xlabel('Marks Obtained in English out of 100')\n",
    "plt.ylabel('Count');"
   ]
  },
  {
   "cell_type": "code",
   "execution_count": 38,
   "id": "d1d3fcf0",
   "metadata": {},
   "outputs": [
    {
     "data": {
      "text/plain": [
       "58.5"
      ]
     },
     "execution_count": 38,
     "metadata": {},
     "output_type": "execute_result"
    }
   ],
   "source": [
    "# Calculate the median \"English\" feature using \".quantile()\"\n",
    "# Note: The median is the 0.5th quantile, so pass in 0.5 as a parameter to the \".quantile()\" function\n",
    "########## CODE HERE ##########\n",
    "df['English'].quantile(0.5)"
   ]
  },
  {
   "cell_type": "code",
   "execution_count": 42,
   "id": "18f4c7a0",
   "metadata": {},
   "outputs": [
    {
     "data": {
      "text/plain": [
       "0.25    42.5\n",
       "0.50    58.5\n",
       "0.75    76.5\n",
       "Name: English, dtype: float64"
      ]
     },
     "execution_count": 42,
     "metadata": {},
     "output_type": "execute_result"
    }
   ],
   "source": [
    "# Calculate the quartiles of the \"English\" feature using \".quantile()\"\n",
    "# Note: The three quartiles are equal to the 0.25th, 0.5th and 0.75th quantiles\n",
    "# Note: You can pass a list of numbers to the \".quantile()\" function\n",
    "########## CODE HERE ##########\n",
    "df['English'].quantile([0.25,0.5,0.75])"
   ]
  },
  {
   "cell_type": "code",
   "execution_count": 44,
   "id": "9488b6bf",
   "metadata": {},
   "outputs": [
    {
     "data": {
      "image/png": "[encoded data removed]",
      "text/plain": [
       "<Figure size 600x300 with 1 Axes>"
      ]
     },
     "metadata": {},
     "output_type": "display_data"
    }
   ],
   "source": [
    "# Create a histogram of the \"English\" feature and also show the quartiles\n",
    "plt.figure(figsize = (6, 3), dpi= 100)\n",
    "sns.histplot(data = df, x = 'English', color = 'orange', edgecolor = 'linen', alpha = 0.5, bins = 10)\n",
    "plt.vlines(x = df['English'].quantile([0.25, 0.5, 0.75]), ymin = 0, ymax = 8, colors = 'red')\n",
    "plt.title('Histogram of Marks Obtained in English')\n",
    "plt.xlabel('Marks Obtained in English out of 100')\n",
    "plt.ylabel('Count');"
   ]
  },
  {
   "cell_type": "code",
   "execution_count": 46,
   "id": "729d1570",
   "metadata": {},
   "outputs": [
    {
     "data": {
      "image/png": "[encoded data removed]",
      "text/plain": [
       "<Figure size 600x300 with 1 Axes>"
      ]
     },
     "metadata": {},
     "output_type": "display_data"
    }
   ],
   "source": [
    "# Create a box plot of the \"English\" feature\n",
    "plt.figure(figsize = (6, 3), dpi= 100)\n",
    "sns.boxplot(data = df, x = 'English', color = 'linen')\n",
    "plt.title('Box Plot of Marks Obtained in English')\n",
    "plt.xlabel('Marks Obtained in English out of 100');"
   ]
  },
  {
   "cell_type": "code",
   "execution_count": 48,
   "id": "a7e12b6a",
   "metadata": {},
   "outputs": [
    {
     "data": {
      "text/plain": [
       "0.25    37.25\n",
       "0.50    52.00\n",
       "0.75    77.25\n",
       "Name: Mathematics, dtype: float64"
      ]
     },
     "execution_count": 48,
     "metadata": {},
     "output_type": "execute_result"
    }
   ],
   "source": [
    "# Calculate the quartiles of the \"Mathematics\" feature using \".quantile()\"\n",
    "# Note: The three quartiles are equal to the 0.25th, 0.5th and 0.75th quantiles\n",
    "# Note: You can pass a list of numbers to the \".quantile()\" function\n",
    "########## CODE HERE ##########\n",
    "df['Mathematics'].quantile([0.25,0.5,0.75])"
   ]
  },
  {
   "cell_type": "code",
   "execution_count": 50,
   "id": "5cc3cbf6",
   "metadata": {},
   "outputs": [
    {
     "data": {
      "image/png": "[encoded data removed]",
      "text/plain": [
       "<Figure size 600x300 with 1 Axes>"
      ]
     },
     "metadata": {},
     "output_type": "display_data"
    }
   ],
   "source": [
    "# Create a histogram of the \"Mathematics\" feature and also show the quartiles\n",
    "plt.figure(figsize = (6, 3), dpi= 100)\n",
    "sns.histplot(data = df, x = 'Mathematics', color = 'orange', edgecolor = 'linen', alpha = 0.5, bins = 10)\n",
    "plt.vlines(x = df['Mathematics'].quantile([0.25, 0.5, 0.75]), ymin = 0, ymax = 8, colors = 'red')\n",
    "plt.title('Histogram of Marks Obtained in Mathematics')\n",
    "plt.xlabel('Marks Obtained in Mathematics out of 100')\n",
    "plt.ylabel('Count');"
   ]
  },
  {
   "cell_type": "code",
   "execution_count": 52,
   "id": "ec1ad4ec",
   "metadata": {},
   "outputs": [
    {
     "data": {
      "image/png": "[encoded data removed]",
      "text/plain": [
       "<Figure size 600x300 with 1 Axes>"
      ]
     },
     "metadata": {},
     "output_type": "display_data"
    }
   ],
   "source": [
    "# Create a box plot of the \"Mathematics\" feature\n",
    "plt.figure(figsize = (6, 3), dpi= 100)\n",
    "sns.boxplot(data = df, x = 'Mathematics', color = 'linen')\n",
    "plt.title('Box Plot of Marks Obtained in Mathematics')\n",
    "plt.xlabel('Marks Obtained in Mathematics out of 100');"
   ]
  },
  {
   "cell_type": "code",
   "execution_count": 54,
   "id": "4f60f49f",
   "metadata": {},
   "outputs": [
    {
     "data": {
      "text/plain": [
       "0.25    49.0\n",
       "0.50    59.0\n",
       "0.75    75.0\n",
       "Name: Programming, dtype: float64"
      ]
     },
     "execution_count": 54,
     "metadata": {},
     "output_type": "execute_result"
    }
   ],
   "source": [
    "# Calculate the quartiles of the \"Programming\" feature using \".quantile()\"\n",
    "# Note: The three quartiles are equal to the 0.25th, 0.5th and 0.75th quantiles\n",
    "# Note: You can pass a list of numbers to the \".quantile()\" function\n",
    "########## CODE HERE ##########\n",
    "df['Programming'].quantile([0.25,0.5,0.75])"
   ]
  },
  {
   "cell_type": "code",
   "execution_count": 56,
   "id": "654de782",
   "metadata": {},
   "outputs": [
    {
     "data": {
      "image/png": "[encoded data removed]",
      "text/plain": [
       "<Figure size 600x300 with 1 Axes>"
      ]
     },
     "metadata": {},
     "output_type": "display_data"
    }
   ],
   "source": [
    "# Create a histogram of the \"Programming\" feature and also show the quartiles\n",
    "plt.figure(figsize = (6, 3), dpi= 100)\n",
    "sns.histplot(data = df, x = 'Programming', color = 'orange', edgecolor = 'linen', alpha = 0.5, bins = 10)\n",
    "plt.vlines(x = df['Programming'].quantile([0.25, 0.5, 0.75]), ymin = 0, ymax = 10, colors = 'red')\n",
    "plt.title('Histogram of Marks Obtained in Programming')\n",
    "plt.xlabel('Marks Obtained in Programming out of 100')\n",
    "plt.ylabel('Count');"
   ]
  },
  {
   "cell_type": "code",
   "execution_count": 58,
   "id": "8e730f54",
   "metadata": {},
   "outputs": [
    {
     "data": {
      "image/png": "[encoded data removed]",
      "text/plain": [
       "<Figure size 600x300 with 1 Axes>"
      ]
     },
     "metadata": {},
     "output_type": "display_data"
    }
   ],
   "source": [
    "# Create a box plot of the \"Programming\" feature\n",
    "plt.figure(figsize = (6, 3), dpi= 100)\n",
    "sns.boxplot(data = df, x = 'Programming', color = 'linen')\n",
    "plt.title('Box Plot of Marks Obtained in Programming')\n",
    "plt.xlabel('Marks Obtained in Programming out of 100');"
   ]
  },
  {
   "cell_type": "code",
   "execution_count": 118,
   "id": "d7dd5afb",
   "metadata": {},
   "outputs": [
    {
     "data": {
      "image/png": "[encoded data removed]",
      "text/plain": [
       "<Figure size 1200x600 with 6 Axes>"
      ]
     },
     "metadata": {},
     "output_type": "display_data"
    }
   ],
   "source": [
    "# Create a figure with all the relevant plots\n",
    "plt.figure(figsize = (12, 6))\n",
    "\n",
    "plt.subplot(3, 2, 1)\n",
    "sns.histplot(data = df, x = 'English', color = 'orange', edgecolor = 'linen', alpha = 0.5, bins = 10)\n",
    "plt.vlines(x = df['English'].quantile([0.25, 0.5, 0.75]), ymin = 0, ymax = 8, colors = 'red')\n",
    "plt.title('English')\n",
    "plt.xlabel('')\n",
    "plt.ylabel('')\n",
    "\n",
    "plt.subplot(3, 2, 2)\n",
    "sns.boxplot(data = df, x = 'English', color = 'linen')\n",
    "plt.title('English')\n",
    "plt.xlabel('')\n",
    "\n",
    "plt.subplot(3, 2, 3)\n",
    "sns.histplot(data = df, x = 'Mathematics', color = 'orange', edgecolor = 'linen', alpha = 0.5, bins = 10)\n",
    "plt.vlines(x = df['Mathematics'].quantile([0.25, 0.5, 0.75]), ymin = 0, ymax = 8, colors = 'red')\n",
    "plt.title('Mathematics')\n",
    "plt.xlabel('')\n",
    "plt.ylabel('')\n",
    "\n",
    "plt.subplot(3, 2, 4)\n",
    "sns.boxplot(data = df, x = 'Mathematics', color = 'linen')\n",
    "plt.title('Mathematics')\n",
    "plt.xlabel('')\n",
    "\n",
    "plt.subplot(3, 2, 5)\n",
    "sns.histplot(data = df, x = 'Programming', color = 'orange', edgecolor = 'linen', alpha = 0.5, bins = 10)\n",
    "plt.vlines(x = df['Programming'].quantile([0.25, 0.5, 0.75]), ymin = 0, ymax = 10, colors = 'red')\n",
    "plt.title('Programming')\n",
    "plt.xlabel('')\n",
    "plt.ylabel('')\n",
    "\n",
    "plt.subplot(3, 2, 6)\n",
    "sns.boxplot(data = df, x = 'Programming', color = 'linen')\n",
    "plt.title('Programming')\n",
    "plt.xlabel('')\n",
    "plt.tight_layout();\n"
   ]
  },
  {
   "cell_type": "code",
   "execution_count": null,
   "id": "d311df27",
   "metadata": {},
   "outputs": [],
   "source": [
    "# Observations\n",
    "\n",
    "# By observing the distance between the lower and upper quartiles of a distribution, we get a sense of its range\n",
    "# The spread of marks in the mathematics test is the greatest and it is least for the programming test\n",
    "# The lower and upper quartiles for English are 42.5 and 76.5\n",
    "# The lower and upper quartiles for mathematics are 37.25 and 77.25\n",
    "# The lower and upper quartiles for programming are 49 and 75"
   ]
  },
  {
   "cell_type": "code",
   "execution_count": null,
   "id": "4fc64e6f",
   "metadata": {},
   "outputs": [],
   "source": [
    "###########################################################################"
   ]
  },
  {
   "cell_type": "code",
   "execution_count": null,
   "id": "5a87c38e",
   "metadata": {},
   "outputs": [],
   "source": [
    "# Task 3 - Subset the data using the quantiles decided to separate the applicants into three categories\n",
    "\n",
    "# We will now use the lower and upper quartiles as thresholds for the interview process\n",
    "# We will store the lower and upper cut-off marks in a data frame"
   ]
  },
  {
   "cell_type": "code",
   "execution_count": 70,
   "id": "847a160a",
   "metadata": {},
   "outputs": [],
   "source": [
    "# Create a Pandas Series called \"lower\" to store the lower cut-off marks for all the subjects\n",
    "# Note: Set the \"index\" parameter of the series to the list of the column names of the data frame except the first column\n",
    "# Note: The \"data\" parameter of the series needs to be a list of the relevant values\n",
    "########## CODE HERE ##########\n",
    "lower=pd.Series(index = df.columns[1:],data = [df['English'].quantile(0.25), df['Mathematics'].quantile(0.25), df['Programming'].quantile(0.25)])"
   ]
  },
  {
   "cell_type": "code",
   "execution_count": 72,
   "id": "ff7ec60a",
   "metadata": {},
   "outputs": [
    {
     "name": "stdout",
     "output_type": "stream",
     "text": [
      "English        42.50\n",
      "Mathematics    37.25\n",
      "Programming    49.00\n",
      "dtype: float64\n"
     ]
    }
   ],
   "source": [
    "# Print the \"lower\" series\n",
    "########## CODE HERE ##########\n",
    "print(lower)"
   ]
  },
  {
   "cell_type": "code",
   "execution_count": 74,
   "id": "c56a0179",
   "metadata": {},
   "outputs": [],
   "source": [
    "# Create a Pandas Series called \"upper\" to store the upper cut-off marks for all the subjects\n",
    "# Note: Set the \"index\" parameter of the series to the list of the column names of the data frame except the first column\n",
    "# Note: The \"data\" parameter of the series needs to be a list of the relevant values\n",
    "########## CODE HERE ##########\n",
    "upper=pd.Series(index=df.columns[1:],data=[df['English'].quantile(0.75),df['Mathematics'].quantile(0.75),df['Programming'].quantile(0.75)])"
   ]
  },
  {
   "cell_type": "code",
   "execution_count": 78,
   "id": "db76f7fb",
   "metadata": {},
   "outputs": [
    {
     "data": {
      "text/plain": [
       "English        76.50\n",
       "Mathematics    77.25\n",
       "Programming    75.00\n",
       "dtype: float64"
      ]
     },
     "execution_count": 78,
     "metadata": {},
     "output_type": "execute_result"
    }
   ],
   "source": [
    "# Print the \"upper\" series\n",
    "########## CODE HERE ##########\n",
    "upper"
   ]
  },
  {
   "cell_type": "code",
   "execution_count": 90,
   "id": "460cf4e3",
   "metadata": {},
   "outputs": [],
   "source": [
    "# Combine the \"lower\" and \"upper\" series into a single data frame called \"cutoff\"\n",
    "# Note: Set the \"index\" parameter of the data frame to the list of the column names of the data frame except the first column\n",
    "# Note: The \"data\" parameter must be set in the form of a Python Dictionary using the series \"lower\" and \"upper\"\n",
    "########## CODE HERE ##########\n",
    "cutoff=pd.DataFrame(index=df.columns[1:],data={'Lower' : lower, 'Upper' : upper})"
   ]
  },
  {
   "cell_type": "code",
   "execution_count": 92,
   "id": "4c6d6812",
   "metadata": {},
   "outputs": [
    {
     "data": {
      "text/html": [
       "<div>\n",
       "<style scoped>\n",
       "    .dataframe tbody tr th:only-of-type {\n",
       "        vertical-align: middle;\n",
       "    }\n",
       "\n",
       "    .dataframe tbody tr th {\n",
       "        vertical-align: top;\n",
       "    }\n",
       "\n",
       "    .dataframe thead th {\n",
       "        text-align: right;\n",
       "    }\n",
       "</style>\n",
       "<table border=\"1\" class=\"dataframe\">\n",
       "  <thead>\n",
       "    <tr style=\"text-align: right;\">\n",
       "      <th></th>\n",
       "      <th>Lower</th>\n",
       "      <th>Upper</th>\n",
       "    </tr>\n",
       "  </thead>\n",
       "  <tbody>\n",
       "    <tr>\n",
       "      <th>English</th>\n",
       "      <td>42.50</td>\n",
       "      <td>76.50</td>\n",
       "    </tr>\n",
       "    <tr>\n",
       "      <th>Mathematics</th>\n",
       "      <td>37.25</td>\n",
       "      <td>77.25</td>\n",
       "    </tr>\n",
       "    <tr>\n",
       "      <th>Programming</th>\n",
       "      <td>49.00</td>\n",
       "      <td>75.00</td>\n",
       "    </tr>\n",
       "  </tbody>\n",
       "</table>\n",
       "</div>"
      ],
      "text/plain": [
       "             Lower  Upper\n",
       "English      42.50  76.50\n",
       "Mathematics  37.25  77.25\n",
       "Programming  49.00  75.00"
      ]
     },
     "execution_count": 92,
     "metadata": {},
     "output_type": "execute_result"
    }
   ],
   "source": [
    "# Print the \"cutoff\" data frame\n",
    "########## CODE HERE ##########\n",
    "cutoff"
   ]
  },
  {
   "cell_type": "code",
   "execution_count": 96,
   "id": "cf9d9595",
   "metadata": {},
   "outputs": [],
   "source": [
    "# Use the upper cut-off values to get the details of applicants who will directly go to the final stage of the interview\n",
    "# Note: A candidate must have scored greater than or equal to the upper cut-off marks for each of the subjects\n",
    "# Store the resulting subsetted data frame as \"final\"\n",
    "########## CODE HERE ##########\n",
    "final =df[(df['English']>=76.50) & (df['Mathematics']>=77.25) & (df['Programming']>=75.00)]"
   ]
  },
  {
   "cell_type": "code",
   "execution_count": 98,
   "id": "2603e627",
   "metadata": {},
   "outputs": [
    {
     "data": {
      "text/html": [
       "<div>\n",
       "<style scoped>\n",
       "    .dataframe tbody tr th:only-of-type {\n",
       "        vertical-align: middle;\n",
       "    }\n",
       "\n",
       "    .dataframe tbody tr th {\n",
       "        vertical-align: top;\n",
       "    }\n",
       "\n",
       "    .dataframe thead th {\n",
       "        text-align: right;\n",
       "    }\n",
       "</style>\n",
       "<table border=\"1\" class=\"dataframe\">\n",
       "  <thead>\n",
       "    <tr style=\"text-align: right;\">\n",
       "      <th></th>\n",
       "      <th>Name</th>\n",
       "      <th>English</th>\n",
       "      <th>Mathematics</th>\n",
       "      <th>Programming</th>\n",
       "    </tr>\n",
       "    <tr>\n",
       "      <th>AID</th>\n",
       "      <th></th>\n",
       "      <th></th>\n",
       "      <th></th>\n",
       "      <th></th>\n",
       "    </tr>\n",
       "  </thead>\n",
       "  <tbody>\n",
       "    <tr>\n",
       "      <th>2021001</th>\n",
       "      <td>Anirudh</td>\n",
       "      <td>77</td>\n",
       "      <td>91</td>\n",
       "      <td>85</td>\n",
       "    </tr>\n",
       "    <tr>\n",
       "      <th>2021022</th>\n",
       "      <td>John</td>\n",
       "      <td>79</td>\n",
       "      <td>84</td>\n",
       "      <td>79</td>\n",
       "    </tr>\n",
       "    <tr>\n",
       "      <th>2021028</th>\n",
       "      <td>Gayatri</td>\n",
       "      <td>94</td>\n",
       "      <td>98</td>\n",
       "      <td>96</td>\n",
       "    </tr>\n",
       "    <tr>\n",
       "      <th>2021043</th>\n",
       "      <td>Gita</td>\n",
       "      <td>88</td>\n",
       "      <td>88</td>\n",
       "      <td>80</td>\n",
       "    </tr>\n",
       "  </tbody>\n",
       "</table>\n",
       "</div>"
      ],
      "text/plain": [
       "            Name  English  Mathematics  Programming\n",
       "AID                                                \n",
       "2021001  Anirudh       77           91           85\n",
       "2021022     John       79           84           79\n",
       "2021028  Gayatri       94           98           96\n",
       "2021043     Gita       88           88           80"
      ]
     },
     "execution_count": 98,
     "metadata": {},
     "output_type": "execute_result"
    }
   ],
   "source": [
    "# Print the \"Name\" feature of the \"final\" data frame\n",
    "# These are the specifics of the candidates who will directly proceed to the final stage of the interview\n",
    "########## CODE HERE ##########\n",
    "final"
   ]
  },
  {
   "cell_type": "code",
   "execution_count": 104,
   "id": "0cadbed0",
   "metadata": {},
   "outputs": [],
   "source": [
    "# Use the lower and upper cut-off values to get the details of applicants who will go to the second stage of the interview\n",
    "# Note: A candidate must have scored greater than or equal to the lower cut-off marks for each of the subjects\n",
    "# Note: The candidate must have scored less than the upper cut-off marks for each of the subjects\n",
    "# Store the resulting subsetted data frame as \"second\"\n",
    "########## CODE HERE ##########\n",
    "\n",
    "second=df[(df['English']>=42.50) & (df['English']<=76.50) &\n",
    "(df['Mathematics']>=37.25) & (df['Mathematics']<=77.25) &\n",
    "(df['Programming']>=49.00) & (df['Programming']<=75.00)]"
   ]
  },
  {
   "cell_type": "code",
   "execution_count": 106,
   "id": "e57fc147",
   "metadata": {},
   "outputs": [
    {
     "data": {
      "text/html": [
       "<div>\n",
       "<style scoped>\n",
       "    .dataframe tbody tr th:only-of-type {\n",
       "        vertical-align: middle;\n",
       "    }\n",
       "\n",
       "    .dataframe tbody tr th {\n",
       "        vertical-align: top;\n",
       "    }\n",
       "\n",
       "    .dataframe thead th {\n",
       "        text-align: right;\n",
       "    }\n",
       "</style>\n",
       "<table border=\"1\" class=\"dataframe\">\n",
       "  <thead>\n",
       "    <tr style=\"text-align: right;\">\n",
       "      <th></th>\n",
       "      <th>Name</th>\n",
       "      <th>English</th>\n",
       "      <th>Mathematics</th>\n",
       "      <th>Programming</th>\n",
       "    </tr>\n",
       "    <tr>\n",
       "      <th>AID</th>\n",
       "      <th></th>\n",
       "      <th></th>\n",
       "      <th></th>\n",
       "      <th></th>\n",
       "    </tr>\n",
       "  </thead>\n",
       "  <tbody>\n",
       "    <tr>\n",
       "      <th>2021003</th>\n",
       "      <td>Pramod</td>\n",
       "      <td>45</td>\n",
       "      <td>43</td>\n",
       "      <td>55</td>\n",
       "    </tr>\n",
       "    <tr>\n",
       "      <th>2021010</th>\n",
       "      <td>Ramesh</td>\n",
       "      <td>48</td>\n",
       "      <td>42</td>\n",
       "      <td>50</td>\n",
       "    </tr>\n",
       "    <tr>\n",
       "      <th>2021012</th>\n",
       "      <td>Jacob</td>\n",
       "      <td>55</td>\n",
       "      <td>48</td>\n",
       "      <td>60</td>\n",
       "    </tr>\n",
       "    <tr>\n",
       "      <th>2021023</th>\n",
       "      <td>Hussain</td>\n",
       "      <td>56</td>\n",
       "      <td>51</td>\n",
       "      <td>60</td>\n",
       "    </tr>\n",
       "    <tr>\n",
       "      <th>2021026</th>\n",
       "      <td>Roma</td>\n",
       "      <td>48</td>\n",
       "      <td>38</td>\n",
       "      <td>72</td>\n",
       "    </tr>\n",
       "    <tr>\n",
       "      <th>2021039</th>\n",
       "      <td>Abdullah</td>\n",
       "      <td>54</td>\n",
       "      <td>47</td>\n",
       "      <td>49</td>\n",
       "    </tr>\n",
       "    <tr>\n",
       "      <th>2021041</th>\n",
       "      <td>Eric</td>\n",
       "      <td>48</td>\n",
       "      <td>47</td>\n",
       "      <td>50</td>\n",
       "    </tr>\n",
       "    <tr>\n",
       "      <th>2021049</th>\n",
       "      <td>Payal</td>\n",
       "      <td>74</td>\n",
       "      <td>71</td>\n",
       "      <td>75</td>\n",
       "    </tr>\n",
       "    <tr>\n",
       "      <th>2021050</th>\n",
       "      <td>Suresh</td>\n",
       "      <td>50</td>\n",
       "      <td>42</td>\n",
       "      <td>49</td>\n",
       "    </tr>\n",
       "  </tbody>\n",
       "</table>\n",
       "</div>"
      ],
      "text/plain": [
       "             Name  English  Mathematics  Programming\n",
       "AID                                                 \n",
       "2021003    Pramod       45           43           55\n",
       "2021010    Ramesh       48           42           50\n",
       "2021012     Jacob       55           48           60\n",
       "2021023   Hussain       56           51           60\n",
       "2021026      Roma       48           38           72\n",
       "2021039  Abdullah       54           47           49\n",
       "2021041      Eric       48           47           50\n",
       "2021049     Payal       74           71           75\n",
       "2021050    Suresh       50           42           49"
      ]
     },
     "execution_count": 106,
     "metadata": {},
     "output_type": "execute_result"
    }
   ],
   "source": [
    "# Print the \"Name\" feature of the \"second\" data frame\n",
    "# These are the specifics of the candidates who will proceed to the second stage of the interview\n",
    "########## CODE HERE ##########\n",
    "second"
   ]
  },
  {
   "cell_type": "code",
   "execution_count": 120,
   "id": "0c625a55-c022-43d4-8f7d-f19bdb331acb",
   "metadata": {},
   "outputs": [
    {
     "data": {
      "text/plain": [
       "AID\n",
       "2021003      Pramod\n",
       "2021010      Ramesh\n",
       "2021012       Jacob\n",
       "2021023     Hussain\n",
       "2021026        Roma\n",
       "2021039    Abdullah\n",
       "2021041        Eric\n",
       "2021049       Payal\n",
       "2021050      Suresh\n",
       "Name: Name, dtype: object"
      ]
     },
     "execution_count": 120,
     "metadata": {},
     "output_type": "execute_result"
    }
   ],
   "source": [
    "second['Name']"
   ]
  },
  {
   "cell_type": "code",
   "execution_count": 108,
   "id": "2d7c764a",
   "metadata": {},
   "outputs": [],
   "source": [
    "# Use the lower cut-off values to get the details of applicants who will be rejected this time and need to apply again\n",
    "# Note: A candidate must have scored less than the upper cut-off marks for each of the subjects\n",
    "# Store the resulting subsetted data frame as \"reject\"\n",
    "########## CODE HERE ##########\n",
    "reject=df[(df['English']<=42.50) &\n",
    "(df['Mathematics']<=37.25) &\n",
    "(df['Programming']<=49.00)]"
   ]
  },
  {
   "cell_type": "code",
   "execution_count": 110,
   "id": "cf134cee",
   "metadata": {},
   "outputs": [
    {
     "data": {
      "text/html": [
       "<div>\n",
       "<style scoped>\n",
       "    .dataframe tbody tr th:only-of-type {\n",
       "        vertical-align: middle;\n",
       "    }\n",
       "\n",
       "    .dataframe tbody tr th {\n",
       "        vertical-align: top;\n",
       "    }\n",
       "\n",
       "    .dataframe thead th {\n",
       "        text-align: right;\n",
       "    }\n",
       "</style>\n",
       "<table border=\"1\" class=\"dataframe\">\n",
       "  <thead>\n",
       "    <tr style=\"text-align: right;\">\n",
       "      <th></th>\n",
       "      <th>Name</th>\n",
       "      <th>English</th>\n",
       "      <th>Mathematics</th>\n",
       "      <th>Programming</th>\n",
       "    </tr>\n",
       "    <tr>\n",
       "      <th>AID</th>\n",
       "      <th></th>\n",
       "      <th></th>\n",
       "      <th></th>\n",
       "      <th></th>\n",
       "    </tr>\n",
       "  </thead>\n",
       "  <tbody>\n",
       "    <tr>\n",
       "      <th>2021030</th>\n",
       "      <td>Chandra</td>\n",
       "      <td>40</td>\n",
       "      <td>36</td>\n",
       "      <td>39</td>\n",
       "    </tr>\n",
       "    <tr>\n",
       "      <th>2021037</th>\n",
       "      <td>Timothy</td>\n",
       "      <td>30</td>\n",
       "      <td>37</td>\n",
       "      <td>33</td>\n",
       "    </tr>\n",
       "    <tr>\n",
       "      <th>2021045</th>\n",
       "      <td>Rose</td>\n",
       "      <td>34</td>\n",
       "      <td>30</td>\n",
       "      <td>44</td>\n",
       "    </tr>\n",
       "  </tbody>\n",
       "</table>\n",
       "</div>"
      ],
      "text/plain": [
       "            Name  English  Mathematics  Programming\n",
       "AID                                                \n",
       "2021030  Chandra       40           36           39\n",
       "2021037  Timothy       30           37           33\n",
       "2021045     Rose       34           30           44"
      ]
     },
     "execution_count": 110,
     "metadata": {},
     "output_type": "execute_result"
    }
   ],
   "source": [
    "# Print the \"Name\" feature of the \"reject\" data frame\n",
    "# These are the specifics of the candidates whol will need to apply again another time\n",
    "########## CODE HERE ##########\n",
    "reject"
   ]
  },
  {
   "cell_type": "code",
   "execution_count": 122,
   "id": "77fcefa6-5c82-4049-a81f-1f8100e78e3a",
   "metadata": {},
   "outputs": [
    {
     "data": {
      "text/plain": [
       "AID\n",
       "2021030    Chandra\n",
       "2021037    Timothy\n",
       "2021045       Rose\n",
       "Name: Name, dtype: object"
      ]
     },
     "execution_count": 122,
     "metadata": {},
     "output_type": "execute_result"
    }
   ],
   "source": [
    "reject['Name']"
   ]
  },
  {
   "cell_type": "code",
   "execution_count": null,
   "id": "1ce12929",
   "metadata": {},
   "outputs": [],
   "source": [
    "# Observations\n",
    "\n",
    "# We can derive quantile values from a given distribution\n",
    "# The quantile values are wholly dependent on the given distribution\n",
    "# The quartiles help us divide the distributions into four equal parts\n",
    "# We can use the lower and upper quartiles as thresholds for the interview process"
   ]
  },
  {
   "cell_type": "code",
   "execution_count": null,
   "id": "5e533437",
   "metadata": {},
   "outputs": [],
   "source": [
    "###########################################################################"
   ]
  },
  {
   "cell_type": "code",
   "execution_count": null,
   "id": "e41be568",
   "metadata": {},
   "outputs": [],
   "source": [
    "# Conclusions\n",
    "\n",
    "# From the given data, we can use simple visualisations to get a sense of how data are distributed\n",
    "# We can use various quantile measures to break the distributions into equal parts\n",
    "# We can use the first and the third quartiles as lower and upper cut-offs for the interview process"
   ]
  },
  {
   "cell_type": "code",
   "execution_count": null,
   "id": "ae23ba4e",
   "metadata": {},
   "outputs": [],
   "source": [
    "###########################################################################"
   ]
  }
 ],
 "metadata": {
  "kernelspec": {
   "display_name": "Python [conda env:base] *",
   "language": "python",
   "name": "conda-base-py"
  },
  "language_info": {
   "codemirror_mode": {
    "name": "ipython",
    "version": 3
   },
   "file_extension": ".py",
   "mimetype": "text/x-python",
   "name": "python",
   "nbconvert_exporter": "python",
   "pygments_lexer": "ipython3",
   "version": "3.12.7"
  }
 },
 "nbformat": 4,
 "nbformat_minor": 5
}
