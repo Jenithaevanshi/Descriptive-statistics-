{
 "cells": [
  {
   "cell_type": "code",
   "execution_count": null,
   "id": "a32cd314",
   "metadata": {},
   "outputs": [],
   "source": [
    "###########################################################################"
   ]
  },
  {
   "cell_type": "code",
   "execution_count": null,
   "id": "987279d3",
   "metadata": {},
   "outputs": [],
   "source": [
    "# Introduction\n",
    "\n",
    "# This Jupyter notebook is part of your learning experience in the study of central tendency\n",
    "# You will work with a simple data set that contains guest details for a buffet\n",
    "\n",
    "# In this exercise, you will perform the following tasks:\n",
    "# 1 - Load and study the data\n",
    "# 2 - View the distributions of the various features in the data set and calculate their central tendencies\n",
    "# 3 - Create a new Pandas Series that contains the details of the representative meal for the buffet"
   ]
  },
  {
   "cell_type": "code",
   "execution_count": null,
   "id": "d3b20edc",
   "metadata": {},
   "outputs": [],
   "source": [
    "###########################################################################"
   ]
  },
  {
   "cell_type": "code",
   "execution_count": null,
   "id": "6cc94d8b",
   "metadata": {},
   "outputs": [],
   "source": [
    "# Task 1 - Load and study the data\n",
    "\n",
    "# Load the data and study its features such as:\n",
    "# The number of employees\n",
    "# The number of features\n",
    "# The types of features"
   ]
  },
  {
   "cell_type": "code",
   "execution_count": 1,
   "id": "33884073",
   "metadata": {},
   "outputs": [],
   "source": [
    "# Load \"numpy\" and \"pandas\" for manipulating numbers and data frames\n",
    "# Load \"matplotlib.pyplot\" and \"seaborn\" for data visualisation\n",
    "import numpy as np\n",
    "import pandas as pd\n",
    "import matplotlib.pyplot as plt\n",
    "import seaborn as sns"
   ]
  },
  {
   "cell_type": "code",
   "execution_count": 13,
   "id": "50dfd163-2c53-4bad-8cf1-3fc30c2adf67",
   "metadata": {},
   "outputs": [
    {
     "data": {
      "text/plain": [
       "['.ipynb_checkpoints',\n",
       " '0001013840003673375_03152025_04042025.PDF',\n",
       " 'Anaconda3-2024.10-1-Windows-x86_64.exe',\n",
       " 'Assignment on String_upGrad1.pdf.pdf',\n",
       " 'Assignment.pdf',\n",
       " 'Buffet_Details.csv',\n",
       " 'Case+Study+Notebook (1)',\n",
       " 'codeblocks-20.03mingw-setup.exe',\n",
       " 'Course Project_ File Handling [exercise] (2).ipynb.ipynb',\n",
       " 'Course Project_ File Handling [exercise].ipynb',\n",
       " 'Course_Project_File_Handling_[solution]',\n",
       " 'Course_Project_File_Handling_[solution].zip',\n",
       " 'Descriptive_Statistics_1_Solution (2).ipynb',\n",
       " 'Descriptive_Statistics_2_Exercise (3).ipynb',\n",
       " 'desktop.ini',\n",
       " 'doubt(1)(1).ipynb',\n",
       " 'doubt(1).ipynb',\n",
       " 'doubt.ipynb',\n",
       " 'Employee_Specifics.csv',\n",
       " 'Employee_Specifics_Feature_Description.txt',\n",
       " 'File handling project',\n",
       " 'File handling project.zip',\n",
       " 'Git-2.48.1-64-bit.exe',\n",
       " 'Git-2.49.0-64-bit.exe',\n",
       " 'git-sdk-installer-1.0.8-32.7z.exe',\n",
       " 'GitHubDesktopSetup-x64.exe',\n",
       " 'gvim_9.1.0_x64_signed.exe',\n",
       " 'jeni',\n",
       " 'mainfolder',\n",
       " 'mainfolder.zip',\n",
       " 'other exercise upgrade',\n",
       " 'Pandas+Notebook+II.ipynb',\n",
       " 'Pandas+Notebook+III.ipynb',\n",
       " 'pandas_abhisheak',\n",
       " 'Practice+Questions+-+Session+2 (1)',\n",
       " 'Practice+Questions+-+Session+2 (1).zip',\n",
       " 'Practice+Questions+-+Session+2+(Solution) (1) (1)',\n",
       " 'project jeni.ipynb',\n",
       " 'python programming',\n",
       " 'python-3.12.0-amd64.exe',\n",
       " 'python-3.12.4-amd64.exe',\n",
       " 'Raw data',\n",
       " 'Resume 11212018.docx',\n",
       " 'The Buffet_Details_explanation_feature.txt',\n",
       " 'upgrade docs',\n",
       " 'vlc-3.0.21-win32.exe',\n",
       " 'VSCodeUserSetup-x64-1.98.2(1).exe',\n",
       " 'VSCodeUserSetup-x64-1.98.2.exe',\n",
       " 'w5 - Course Project_ File Handling-20250318T055030Z-001']"
      ]
     },
     "execution_count": 13,
     "metadata": {},
     "output_type": "execute_result"
    }
   ],
   "source": [
    "import os\n",
    "os.listdir()"
   ]
  },
  {
   "cell_type": "code",
   "execution_count": 109,
   "id": "6da1963a",
   "metadata": {},
   "outputs": [],
   "source": [
    "# Read in the \"Buffet_Details.csv\" file as a Pandas Data Frame\n",
    "# Note: Make sure the code and the data are in the same folder or specify the appropriate path\n",
    "df = pd.read_csv('Buffet_Details.csv', index_col = 0)"
   ]
  },
  {
   "cell_type": "code",
   "execution_count": 11,
   "id": "85e9af90",
   "metadata": {},
   "outputs": [
    {
     "data": {
      "text/html": [
       "<div>\n",
       "<style scoped>\n",
       "    .dataframe tbody tr th:only-of-type {\n",
       "        vertical-align: middle;\n",
       "    }\n",
       "\n",
       "    .dataframe tbody tr th {\n",
       "        vertical-align: top;\n",
       "    }\n",
       "\n",
       "    .dataframe thead th {\n",
       "        text-align: right;\n",
       "    }\n",
       "</style>\n",
       "<table border=\"1\" class=\"dataframe\">\n",
       "  <thead>\n",
       "    <tr style=\"text-align: right;\">\n",
       "      <th></th>\n",
       "      <th>Name</th>\n",
       "      <th>Age</th>\n",
       "      <th>Expenditure</th>\n",
       "      <th>Cuisine</th>\n",
       "    </tr>\n",
       "    <tr>\n",
       "      <th>Room</th>\n",
       "      <th></th>\n",
       "      <th></th>\n",
       "      <th></th>\n",
       "      <th></th>\n",
       "    </tr>\n",
       "  </thead>\n",
       "  <tbody>\n",
       "    <tr>\n",
       "      <th>A1</th>\n",
       "      <td>Shilpa</td>\n",
       "      <td>18</td>\n",
       "      <td>1876</td>\n",
       "      <td>Indian</td>\n",
       "    </tr>\n",
       "    <tr>\n",
       "      <th>A2</th>\n",
       "      <td>Jaspreet</td>\n",
       "      <td>32</td>\n",
       "      <td>1762</td>\n",
       "      <td>American</td>\n",
       "    </tr>\n",
       "    <tr>\n",
       "      <th>A3</th>\n",
       "      <td>Dominic</td>\n",
       "      <td>19</td>\n",
       "      <td>2009</td>\n",
       "      <td>Indian</td>\n",
       "    </tr>\n",
       "    <tr>\n",
       "      <th>A4</th>\n",
       "      <td>Ahmad</td>\n",
       "      <td>22</td>\n",
       "      <td>1792</td>\n",
       "      <td>American</td>\n",
       "    </tr>\n",
       "    <tr>\n",
       "      <th>A5</th>\n",
       "      <td>Joseph</td>\n",
       "      <td>28</td>\n",
       "      <td>2321</td>\n",
       "      <td>Indian</td>\n",
       "    </tr>\n",
       "  </tbody>\n",
       "</table>\n",
       "</div>"
      ],
      "text/plain": [
       "          Name  Age  Expenditure   Cuisine\n",
       "Room                                      \n",
       "A1      Shilpa   18         1876    Indian\n",
       "A2    Jaspreet   32         1762  American\n",
       "A3     Dominic   19         2009    Indian\n",
       "A4       Ahmad   22         1792  American\n",
       "A5      Joseph   28         2321    Indian"
      ]
     },
     "execution_count": 11,
     "metadata": {},
     "output_type": "execute_result"
    }
   ],
   "source": [
    "# Take a brief look at the data using \".head()\"\n",
    "########## CODE HERE ##########\n",
    "df.head()"
   ]
  },
  {
   "cell_type": "code",
   "execution_count": 15,
   "id": "83c00a50",
   "metadata": {},
   "outputs": [
    {
     "name": "stdout",
     "output_type": "stream",
     "text": [
      "The \"Buffet_Details.csv\" data is a completely fabricated data set for use only on the upGrad platform.\n",
      "\n",
      "Any resemblance to entities past, present or future is merely a coincidence.\n",
      "\n",
      "Feature Description:\n",
      "Room = unique room number of the hotel room in which the guest is staying\n",
      "Name = first name of the guest\n",
      "Age = age of the guest in years\n",
      "Expenditure = total amount of money spent by the guest on their previous meal in the hotel in rupees\n",
      "Cuisine = type of cuisine selected by the guest in their previous meal\n"
     ]
    }
   ],
   "source": [
    "# Study the description of the data\n",
    "# Note: Make sure the code and the data description are in the same folder or specify the appropriate path\n",
    "with open('Buffet_Details_Feature_Description.txt', 'r') as f:\n",
    "    print(f.read())"
   ]
  },
  {
   "cell_type": "code",
   "execution_count": 17,
   "id": "1093f77a",
   "metadata": {},
   "outputs": [
    {
     "data": {
      "text/plain": [
       "(32, 4)"
      ]
     },
     "execution_count": 17,
     "metadata": {},
     "output_type": "execute_result"
    }
   ],
   "source": [
    "# Get the dimensions of the data frame using \".shape\"\n",
    "########## CODE HERE ##########\n",
    "df.shape"
   ]
  },
  {
   "cell_type": "code",
   "execution_count": 19,
   "id": "6b410320",
   "metadata": {},
   "outputs": [
    {
     "data": {
      "text/plain": [
       "Index(['A1', 'A2', 'A3', 'A4', 'A5', 'A6', 'A7', 'A8', 'A9', 'A10', 'A11',\n",
       "       'A12', 'A13', 'A14', 'A15', 'A16', 'B1', 'B2', 'B3', 'B4', 'B5', 'B6',\n",
       "       'B7', 'B8', 'B9', 'B10', 'B11', 'B12', 'B13', 'B14', 'B15', 'B16'],\n",
       "      dtype='object', name='Room')"
      ]
     },
     "execution_count": 19,
     "metadata": {},
     "output_type": "execute_result"
    }
   ],
   "source": [
    "# Get the row names of the data frame using \".index\"\n",
    "########## CODE HERE ##########\n",
    "df.index"
   ]
  },
  {
   "cell_type": "code",
   "execution_count": 23,
   "id": "002b5450",
   "metadata": {},
   "outputs": [
    {
     "data": {
      "text/plain": [
       "Index(['Name', 'Age', 'Expenditure', 'Cuisine'], dtype='object')"
      ]
     },
     "execution_count": 23,
     "metadata": {},
     "output_type": "execute_result"
    }
   ],
   "source": [
    "# Get the column names of the data frame using \".columns\"\n",
    "########## CODE HERE ##########\n",
    "df.columns"
   ]
  },
  {
   "cell_type": "code",
   "execution_count": 25,
   "id": "fa9b402e",
   "metadata": {},
   "outputs": [
    {
     "name": "stdout",
     "output_type": "stream",
     "text": [
      "<class 'pandas.core.frame.DataFrame'>\n",
      "Index: 32 entries, A1 to B16\n",
      "Data columns (total 4 columns):\n",
      " #   Column       Non-Null Count  Dtype \n",
      "---  ------       --------------  ----- \n",
      " 0   Name         32 non-null     object\n",
      " 1   Age          32 non-null     int64 \n",
      " 2   Expenditure  32 non-null     int64 \n",
      " 3   Cuisine      32 non-null     object\n",
      "dtypes: int64(2), object(2)\n",
      "memory usage: 1.2+ KB\n"
     ]
    }
   ],
   "source": [
    "# Look at basic information about the data frame using \".info()\"\n",
    "########## CODE HERE ##########\n",
    "df.info()"
   ]
  },
  {
   "cell_type": "code",
   "execution_count": null,
   "id": "2073a6b0",
   "metadata": {},
   "outputs": [],
   "source": [
    "# Observations\n",
    "\n",
    "# There are 32 rows and 4 columns in the data\n",
    "# Each row contains the details of the meal previously selected by a guest\n",
    "\n",
    "# The features in the data set are:\n",
    "# The names of the guests\n",
    "# Their respective ages\n",
    "# The amount of money they spend on their previous meal\n",
    "# The type of cuisine of their previous meal"
   ]
  },
  {
   "cell_type": "code",
   "execution_count": null,
   "id": "cab2bd84",
   "metadata": {},
   "outputs": [],
   "source": [
    "###########################################################################"
   ]
  },
  {
   "cell_type": "code",
   "execution_count": null,
   "id": "e638198d",
   "metadata": {},
   "outputs": [],
   "source": [
    "# Task 2 - View the distributions of the various features in the data set and calculate their central tendencies\n",
    "\n",
    "# We will now look at the distributions of the various features in the data set\n",
    "# We will also calculate appropriate measures of central tendency for these features"
   ]
  },
  {
   "cell_type": "code",
   "execution_count": 123,
   "id": "23e67e47",
   "metadata": {},
   "outputs": [
    {
     "data": {
      "image/png": "[encoded data removed]",
      "text/plain": [
       "<Figure size 600x300 with 1 Axes>"
      ]
     },
     "metadata": {},
     "output_type": "display_data"
    }
   ],
   "source": [
    "# Create a histogram of the \"Age\" feature\n",
    "plt.figure(figsize = (6, 3), dpi= 100)\n",
    "sns.histplot(data = df, x = 'Age', color = 'orange', edgecolor = 'linen', alpha = 0.5, bins = 5)\n",
    "plt.title('Histogram of Age of Guests')\n",
    "plt.xlabel('Age in years')\n",
    "plt.ylabel('Count');\n",
    "# We observe that the histogram is quite skewed towards the left\n",
    "# This indicates that most of the guests are not too old"
   ]
  },
  {
   "cell_type": "code",
   "execution_count": 77,
   "id": "e6bbfbba",
   "metadata": {},
   "outputs": [
    {
     "data": {
      "text/plain": [
       "33.28125"
      ]
     },
     "execution_count": 77,
     "metadata": {},
     "output_type": "execute_result"
    }
   ],
   "source": [
    "# Calculate the mean \"Age\" feature using \".mean()\"\n",
    "########## CODE HERE ##########\n",
    "mean_val=df['Age'].mean()\n",
    "mean_val"
   ]
  },
  {
   "cell_type": "code",
   "execution_count": 79,
   "id": "be3503c4",
   "metadata": {},
   "outputs": [
    {
     "data": {
      "text/plain": [
       "27.5"
      ]
     },
     "execution_count": 79,
     "metadata": {},
     "output_type": "execute_result"
    }
   ],
   "source": [
    "# Calculate the median \"Age\" feature using \".median()\"\n",
    "########## CODE HERE ##########\n",
    "median_val=df['Age'].median()\n",
    "median_val"
   ]
  },
  {
   "cell_type": "code",
   "execution_count": 81,
   "id": "9fb93b94",
   "metadata": {},
   "outputs": [
    {
     "data": {
      "image/png": "[encoded data removed]",
      "text/plain": [
       "<Figure size 600x300 with 1 Axes>"
      ]
     },
     "metadata": {},
     "output_type": "display_data"
    }
   ],
   "source": [
    "# Create a histogram of the \"Age\" feature and also show the mean and the median\n",
    "plt.figure(figsize = (6, 3), dpi= 100)\n",
    "sns.histplot(data = df, x = 'Age', color = 'orange', edgecolor = 'linen', alpha = 0.5, bins = 5)\n",
    "plt.title('Histogram of Age of Guests')\n",
    "plt.xlabel('Age in years')\n",
    "plt.vlines(x = df['Age'].mean(), ymin = 0, ymax = 20, colors = 'blue', label = 'Mean')\n",
    "plt.vlines(x = df['Age'].median(), ymin = 0, ymax = 20, colors = 'red', label = 'Median')\n",
    "plt.legend();\n",
    "# Since there are a few guests who are quite old, the mean is pushed more towards the right\n",
    "# Even so, the median seems to be a better indicator of the representative age of the group\n",
    "# In fact, very few guests have age equal to the mean in this data set"
   ]
  },
  {
   "cell_type": "code",
   "execution_count": 125,
   "id": "7fcef612",
   "metadata": {},
   "outputs": [
    {
     "data": {
      "image/png": "[encoded data removed]",
      "text/plain": [
       "<Figure size 600x300 with 1 Axes>"
      ]
     },
     "metadata": {},
     "output_type": "display_data"
    }
   ],
   "source": [
    "# Create a histogram of the \"Expenditure\" feature\n",
    "plt.figure(figsize = (6, 3), dpi= 100)\n",
    "sns.histplot(data = df, x = 'Expenditure', color = 'orange', edgecolor = 'linen', alpha = 0.5, bins = 5)\n",
    "plt.title('Histogram of Expenditure of Guests')\n",
    "plt.xlabel('Expenditure in rupees')\n",
    "plt.ylabel('Count');\n",
    "# We observe that this histogram is almost well distributed, but is skewed a little towards the left"
   ]
  },
  {
   "cell_type": "code",
   "execution_count": 87,
   "id": "8667cacc",
   "metadata": {},
   "outputs": [
    {
     "data": {
      "text/plain": [
       "1700.375"
      ]
     },
     "execution_count": 87,
     "metadata": {},
     "output_type": "execute_result"
    }
   ],
   "source": [
    "# Calculate the mean \"Expenditure\" feature using \".mean()\"\n",
    "########## CODE HERE ##########\n",
    "mean_val_exp=df['Expenditure'].mean()\n",
    "mean_val_exp"
   ]
  },
  {
   "cell_type": "code",
   "execution_count": 89,
   "id": "596e2a3e",
   "metadata": {},
   "outputs": [
    {
     "data": {
      "text/plain": [
       "1648.5"
      ]
     },
     "execution_count": 89,
     "metadata": {},
     "output_type": "execute_result"
    }
   ],
   "source": [
    "# Calculate the median \"Expenditure\" feature using \".median()\"\n",
    "########## CODE HERE ##########\n",
    "median_val_exp=df['Expenditure'].median()\n",
    "median_val_exp"
   ]
  },
  {
   "cell_type": "code",
   "execution_count": 91,
   "id": "dd68d2a5",
   "metadata": {},
   "outputs": [
    {
     "data": {
      "image/png": "[encoded data removed]",
      "text/plain": [
       "<Figure size 600x300 with 1 Axes>"
      ]
     },
     "metadata": {},
     "output_type": "display_data"
    }
   ],
   "source": [
    "# Create a histogram of the \"Expenditure\" feature and also show the mean and the median\n",
    "plt.figure(figsize = (6, 3), dpi= 100)\n",
    "sns.histplot(data = df, x = 'Expenditure', color = 'orange', edgecolor = 'linen', alpha = 0.5, bins = 5)\n",
    "plt.title('Histogram of Expenditure of Guests')\n",
    "plt.xlabel('Expenditure in rupees')\n",
    "plt.vlines(x = df['Expenditure'].mean(), ymin = 0, ymax = 12, colors = 'blue', label = 'Mean')\n",
    "plt.vlines(x = df['Expenditure'].median(), ymin = 0, ymax = 12, colors = 'red', label = 'Median')\n",
    "plt.legend();\n",
    "# The mean and the median are quite close and the difference between them is negligible\n",
    "# We can safely choose the mean as the measure of the central tendency here"
   ]
  },
  {
   "cell_type": "code",
   "execution_count": 127,
   "id": "b1f69497",
   "metadata": {},
   "outputs": [
    {
     "data": {
      "image/png": "[encoded data removed]",
      "text/plain": [
       "<Figure size 600x300 with 1 Axes>"
      ]
     },
     "metadata": {},
     "output_type": "display_data"
    }
   ],
   "source": [
    "# Create a count plot of the \"Cuisine\" feature\n",
    "plt.figure(figsize = (6, 3), dpi= 100)\n",
    "sns.countplot(data = df, x = 'Cuisine')\n",
    "plt.title('Count Plot of Cuisine Preferences of Guests')\n",
    "plt.xlabel('Cuisine')\n",
    "plt.ylabel('Count');\n",
    "# It is quite clear from the count plot that the Indian cuisine is the most popular cuisine for this group of guests"
   ]
  },
  {
   "cell_type": "code",
   "execution_count": 129,
   "id": "7d6ec1b7",
   "metadata": {},
   "outputs": [
    {
     "data": {
      "text/plain": [
       "Cuisine\n",
       "Indian      18\n",
       "American     7\n",
       "Chinese      7\n",
       "Name: count, dtype: int64"
      ]
     },
     "execution_count": 129,
     "metadata": {},
     "output_type": "execute_result"
    }
   ],
   "source": [
    "# Count the number of occurences of different categories of the \"Cuisine\" feature using \".value_counts()\"\n",
    "########## CODE HERE ##########\n",
    "count_cuisine=df['Cuisine'].value_counts()\n",
    "count_cuisine"
   ]
  },
  {
   "cell_type": "code",
   "execution_count": 131,
   "id": "72569a3a",
   "metadata": {},
   "outputs": [
    {
     "data": {
      "text/plain": [
       "'Indian'"
      ]
     },
     "execution_count": 131,
     "metadata": {},
     "output_type": "execute_result"
    }
   ],
   "source": [
    "# Calculate the mode of the \"Cuisine\" feature using \".value_counts()\"\n",
    "# Note: Grab the first index of the series obtained by using \".value_counts()\" and \".index[0]\"\n",
    "########## CODE HERE ##########\n",
    "count_cuisine=df['Cuisine'].value_counts().index[0]\n",
    "count_cuisine\n"
   ]
  },
  {
   "cell_type": "code",
   "execution_count": null,
   "id": "673aa4f5",
   "metadata": {},
   "outputs": [],
   "source": [
    "# Observations\n",
    "\n",
    "# We saw the distributions of the various features in the data set using appropriate plots\n",
    "# We decided on different central tendency measures for each of these features\n",
    "# The median should be chosen instead of the mean for the \"Age\" feature as the mean is pushed to a higher value because of a few older guests\n",
    "# The mean and the median for the \"Expenditure\" feature were similar and we can choose the mean in this case\n",
    "# The mode of the \"Cuisine\" feature can be chosen as a representative value"
   ]
  },
  {
   "cell_type": "code",
   "execution_count": null,
   "id": "477e4d65",
   "metadata": {},
   "outputs": [],
   "source": [
    "###########################################################################"
   ]
  },
  {
   "cell_type": "code",
   "execution_count": null,
   "id": "df945455",
   "metadata": {},
   "outputs": [],
   "source": [
    "# Task 3 - Create a new Pandas Series that contains the details of the representative meal for the buffet\n",
    "\n",
    "# We will now create a Pandas Series that contains the representative values for each of the features"
   ]
  },
  {
   "cell_type": "code",
   "execution_count": 143,
   "id": "d8f3edd3",
   "metadata": {},
   "outputs": [],
   "source": [
    "# Create a new Pandas Series called \"rep_meal\" that contains the details of the representative meal for the buffet\n",
    "# Note: The \"index\" parameter of the series needs to be a list of the relevant feature names\n",
    "# Note: The \"data\" parameter of the series needs to be a list of the relevant values\n",
    "########## CODE HERE ##########\n",
    "\n",
    "rep_meal=pd.Series(index=['Age','Expenditure','Cuisine'], data=[df['Age'].median(),df['Expenditure'].mean(), df['Cuisine'].value_counts().index[0]])\n",
    "\n"
   ]
  },
  {
   "cell_type": "code",
   "execution_count": 145,
   "id": "b0cbcf44",
   "metadata": {},
   "outputs": [
    {
     "data": {
      "text/plain": [
       "Age                27.5\n",
       "Expenditure    1700.375\n",
       "Cuisine          Indian\n",
       "dtype: object"
      ]
     },
     "execution_count": 145,
     "metadata": {},
     "output_type": "execute_result"
    }
   ],
   "source": [
    "# Print the \"rep_meal\" series\n",
    "########## CODE HERE ##########\n",
    "rep_meal"
   ]
  },
  {
   "cell_type": "code",
   "execution_count": null,
   "id": "15d1ffef",
   "metadata": {},
   "outputs": [],
   "source": [
    "# Observations\n",
    "\n",
    "# The representative meal for the buffet is as follows:\n",
    "# The median age of the group of guests would be 27.5\n",
    "# The mean price per meal would be around 1700 rupees\n",
    "# The type of cuisine would be Indian"
   ]
  },
  {
   "cell_type": "code",
   "execution_count": null,
   "id": "d69a635e",
   "metadata": {},
   "outputs": [],
   "source": [
    "###########################################################################"
   ]
  },
  {
   "cell_type": "code",
   "execution_count": null,
   "id": "acd1b099",
   "metadata": {},
   "outputs": [],
   "source": [
    "# Conclusions\n",
    "\n",
    "# From the given data, we can use simple visualisations to get a sense of how data are distributed\n",
    "# We can use various measures of central tendency such as mean, median and mode to represent a group of observations\n",
    "# The type of central tendency measure to use depends on the type and the distribution of the data"
   ]
  },
  {
   "cell_type": "code",
   "execution_count": null,
   "id": "bfb4b4ec",
   "metadata": {},
   "outputs": [],
   "source": [
    "###########################################################################"
   ]
  }
 ],
 "metadata": {
  "kernelspec": {
   "display_name": "Python [conda env:base] *",
   "language": "python",
   "name": "conda-base-py"
  },
  "language_info": {
   "codemirror_mode": {
    "name": "ipython",
    "version": 3
   },
   "file_extension": ".py",
   "mimetype": "text/x-python",
   "name": "python",
   "nbconvert_exporter": "python",
   "pygments_lexer": "ipython3",
   "version": "3.12.7"
  }
 },
 "nbformat": 4,
 "nbformat_minor": 5
}
