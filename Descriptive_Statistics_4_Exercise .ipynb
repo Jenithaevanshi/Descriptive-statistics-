{
 "cells": [
  {
   "cell_type": "code",
   "execution_count": null,
   "id": "8a95012e",
   "metadata": {
    "id": "8a95012e"
   },
   "outputs": [],
   "source": [
    "###########################################################################"
   ]
  },
  {
   "cell_type": "code",
   "execution_count": null,
   "id": "bf9f4933",
   "metadata": {
    "id": "bf9f4933"
   },
   "outputs": [],
   "source": [
    "# Introduction\n",
    "\n",
    "# This Jupyter notebook is part of your learning experience in the study of variability\n",
    "# You will work with a simple data set that contains the investment returns of different agencies\n",
    "\n",
    "# In this exercise, you will perform the following tasks:\n",
    "# 1 - Load and study the data\n",
    "# 2 - View the distributions of the various features in the data set and also calculate various measures of dispersion\n",
    "# 3 - Create a data frame to compare the variability in the investment returns of the different agencies"
   ]
  },
  {
   "cell_type": "code",
   "execution_count": null,
   "id": "bdfe4e95",
   "metadata": {
    "id": "bdfe4e95"
   },
   "outputs": [],
   "source": [
    "###########################################################################"
   ]
  },
  {
   "cell_type": "code",
   "execution_count": null,
   "id": "da15f289",
   "metadata": {
    "id": "da15f289"
   },
   "outputs": [],
   "source": [
    "# Task 1 - Load and study the data\n",
    "\n",
    "# Load the data and study its features such as:\n",
    "# The years for which investment returns have been recorded\n",
    "# The number of agencies whose data is available"
   ]
  },
  {
   "cell_type": "code",
   "execution_count": 1,
   "id": "33884073",
   "metadata": {
    "id": "33884073"
   },
   "outputs": [],
   "source": [
    "# Load \"numpy\" and \"pandas\" for manipulating numbers and data frames\n",
    "# Load \"matplotlib.pyplot\" and \"seaborn\" for data visualisation\n",
    "import numpy as np\n",
    "import pandas as pd\n",
    "import matplotlib.pyplot as plt\n",
    "import seaborn as sns"
   ]
  },
  {
   "cell_type": "code",
   "execution_count": 3,
   "id": "78a80598-514c-430f-9786-89b4c6fa69fa",
   "metadata": {},
   "outputs": [
    {
     "data": {
      "text/plain": [
       "['.ipynb_checkpoints',\n",
       " '0001013840003673375_03152025_04042025.PDF',\n",
       " 'Anaconda3-2024.10-1-Windows-x86_64.exe',\n",
       " 'Assignment on String_upGrad1.pdf.pdf',\n",
       " 'Assignment.pdf',\n",
       " 'Buffet_Details.csv',\n",
       " 'Buffet_Details_Feature_Description.txt',\n",
       " 'Case+Study+Notebook (1)',\n",
       " 'codeblocks-20.03mingw-setup.exe',\n",
       " 'Course Project_ File Handling [exercise] (2).ipynb.ipynb',\n",
       " 'Course Project_ File Handling [exercise].ipynb',\n",
       " 'Course_Project_File_Handling_[solution]',\n",
       " 'Course_Project_File_Handling_[solution].zip',\n",
       " 'Descriptive_Statistics_1_Solution (2).ipynb',\n",
       " 'Descriptive_Statistics_2_Exercise (3) (1).ipynb',\n",
       " 'Descriptive_Statistics_2_Exercise (3).ipynb',\n",
       " 'Descriptive_Statistics_2_Solution (3).ipynb',\n",
       " 'Descriptive_Statistics_3_Exercise (1).ipynb',\n",
       " 'Descriptive_Statistics_3_Solution (1).ipynb',\n",
       " 'Descriptive_Statistics_4_Exercise (1).ipynb',\n",
       " 'desktop.ini',\n",
       " 'doubt(1).ipynb',\n",
       " 'Employee_Specifics.csv',\n",
       " 'Employee_Specifics_Feature_Description.txt',\n",
       " 'File handling project',\n",
       " 'File handling project.zip',\n",
       " 'Git-2.48.1-64-bit.exe',\n",
       " 'Git-2.49.0-64-bit.exe',\n",
       " 'git-sdk-installer-1.0.8-32.7z.exe',\n",
       " 'GitHubDesktopSetup-x64.exe',\n",
       " 'gvim_9.1.0_x64_signed.exe',\n",
       " 'Interview_First_Stage_Exam (3).csv',\n",
       " 'Interview_First_Stage_Exam_Feature_Description.txt',\n",
       " 'Investment_Returns (2).csv',\n",
       " 'Investment_Returns_Feature_Description.txt',\n",
       " 'jeni',\n",
       " 'mainfolder',\n",
       " 'mainfolder.zip',\n",
       " 'other exercise upgrade',\n",
       " 'Pandas+Notebook+II.ipynb',\n",
       " 'Pandas+Notebook+III.ipynb',\n",
       " 'pandas_abhisheak',\n",
       " 'Practice+Questions+-+Session+2 (1)',\n",
       " 'Practice+Questions+-+Session+2 (1).zip',\n",
       " 'Practice+Questions+-+Session+2+(Solution) (1) (1)',\n",
       " 'project jeni.ipynb',\n",
       " 'python programming',\n",
       " 'python-3.12.0-amd64.exe',\n",
       " 'python-3.12.4-amd64.exe',\n",
       " 'Raw data',\n",
       " 'Resume 11212018.docx',\n",
       " 'upgrade docs',\n",
       " 'vlc-3.0.21-win32.exe',\n",
       " 'VSCodeUserSetup-x64-1.98.2(1).exe',\n",
       " 'VSCodeUserSetup-x64-1.98.2.exe',\n",
       " 'w5 - Course Project_ File Handling-20250318T055030Z-001']"
      ]
     },
     "execution_count": 3,
     "metadata": {},
     "output_type": "execute_result"
    }
   ],
   "source": [
    "import os\n",
    "os.listdir()"
   ]
  },
  {
   "cell_type": "code",
   "execution_count": 5,
   "id": "6da1963a",
   "metadata": {
    "id": "6da1963a"
   },
   "outputs": [],
   "source": [
    "# Read in the \"Investment_Returns.csv\" file as a Pandas Data Frame\n",
    "# Note: Make sure the code and the data are in the same folder or specify the appropriate path\n",
    "df = pd.read_csv('Investment_Returns (2).csv', index_col = 0)"
   ]
  },
  {
   "cell_type": "code",
   "execution_count": 7,
   "id": "85e9af90",
   "metadata": {
    "id": "85e9af90"
   },
   "outputs": [
    {
     "data": {
      "text/html": [
       "<div>\n",
       "<style scoped>\n",
       "    .dataframe tbody tr th:only-of-type {\n",
       "        vertical-align: middle;\n",
       "    }\n",
       "\n",
       "    .dataframe tbody tr th {\n",
       "        vertical-align: top;\n",
       "    }\n",
       "\n",
       "    .dataframe thead th {\n",
       "        text-align: right;\n",
       "    }\n",
       "</style>\n",
       "<table border=\"1\" class=\"dataframe\">\n",
       "  <thead>\n",
       "    <tr style=\"text-align: right;\">\n",
       "      <th></th>\n",
       "      <th>George and Wallace</th>\n",
       "      <th>Imperial Traders</th>\n",
       "      <th>High Rise</th>\n",
       "    </tr>\n",
       "    <tr>\n",
       "      <th>Year</th>\n",
       "      <th></th>\n",
       "      <th></th>\n",
       "      <th></th>\n",
       "    </tr>\n",
       "  </thead>\n",
       "  <tbody>\n",
       "    <tr>\n",
       "      <th>2001</th>\n",
       "      <td>12.6</td>\n",
       "      <td>-5.6</td>\n",
       "      <td>8.5</td>\n",
       "    </tr>\n",
       "    <tr>\n",
       "      <th>2002</th>\n",
       "      <td>7.4</td>\n",
       "      <td>8.7</td>\n",
       "      <td>6.3</td>\n",
       "    </tr>\n",
       "    <tr>\n",
       "      <th>2003</th>\n",
       "      <td>-12.6</td>\n",
       "      <td>13.0</td>\n",
       "      <td>-3.2</td>\n",
       "    </tr>\n",
       "    <tr>\n",
       "      <th>2004</th>\n",
       "      <td>-5.8</td>\n",
       "      <td>-6.4</td>\n",
       "      <td>-3.9</td>\n",
       "    </tr>\n",
       "    <tr>\n",
       "      <th>2005</th>\n",
       "      <td>9.2</td>\n",
       "      <td>10.7</td>\n",
       "      <td>6.0</td>\n",
       "    </tr>\n",
       "  </tbody>\n",
       "</table>\n",
       "</div>"
      ],
      "text/plain": [
       "      George and Wallace  Imperial Traders  High Rise\n",
       "Year                                                 \n",
       "2001                12.6              -5.6        8.5\n",
       "2002                 7.4               8.7        6.3\n",
       "2003               -12.6              13.0       -3.2\n",
       "2004                -5.8              -6.4       -3.9\n",
       "2005                 9.2              10.7        6.0"
      ]
     },
     "execution_count": 7,
     "metadata": {},
     "output_type": "execute_result"
    }
   ],
   "source": [
    "# Take a brief look at the data using \".head()\"\n",
    "########## CODE HERE ##########\n",
    "df.head()"
   ]
  },
  {
   "cell_type": "code",
   "execution_count": 9,
   "id": "8cbf5ba2",
   "metadata": {
    "id": "8cbf5ba2"
   },
   "outputs": [
    {
     "name": "stdout",
     "output_type": "stream",
     "text": [
      "The \"Investment_Returns.csv\" data is a completely fabricated data set for use only on the upGrad platform.\n",
      "\n",
      "Any resemblance to entities past, present or future is merely a coincidence.\n",
      "\n",
      "Feature Description:\n",
      "Year = year for which a particular investment return was calculated\n",
      "George and Wallace = percent return in investment via the company \"George and Wallace\"\n",
      "Imperial Traders = percent return in investment via the company \"Imperial Traders\"\n",
      "High Rise = percent return in investment via the company \"High Rise\"\n"
     ]
    }
   ],
   "source": [
    "# Study the description of the data\n",
    "# Note: Make sure the code and the data description are in the same folder or specify the appropriate path\n",
    "with open('Investment_Returns_Feature_Description.txt', 'r') as f:\n",
    "    print(f.read())"
   ]
  },
  {
   "cell_type": "code",
   "execution_count": 11,
   "id": "fa9b402e",
   "metadata": {
    "id": "fa9b402e"
   },
   "outputs": [
    {
     "data": {
      "text/plain": [
       "(20, 3)"
      ]
     },
     "execution_count": 11,
     "metadata": {},
     "output_type": "execute_result"
    }
   ],
   "source": [
    "# Get the dimensions of the data frame using \".shape\"\n",
    "########## CODE HERE ##########\n",
    "df.shape"
   ]
  },
  {
   "cell_type": "code",
   "execution_count": 13,
   "id": "8bf44620",
   "metadata": {
    "id": "8bf44620"
   },
   "outputs": [
    {
     "data": {
      "text/plain": [
       "Index([2001, 2002, 2003, 2004, 2005, 2006, 2007, 2008, 2009, 2010, 2011, 2012,\n",
       "       2013, 2014, 2015, 2016, 2017, 2018, 2019, 2020],\n",
       "      dtype='int64', name='Year')"
      ]
     },
     "execution_count": 13,
     "metadata": {},
     "output_type": "execute_result"
    }
   ],
   "source": [
    "# Get the row names of the data frame using \".index\"\n",
    "########## CODE HERE ##########\n",
    "df.index"
   ]
  },
  {
   "cell_type": "code",
   "execution_count": 15,
   "id": "ef109aa2",
   "metadata": {
    "id": "ef109aa2"
   },
   "outputs": [
    {
     "data": {
      "text/plain": [
       "Index(['George and Wallace', 'Imperial Traders', 'High Rise'], dtype='object')"
      ]
     },
     "execution_count": 15,
     "metadata": {},
     "output_type": "execute_result"
    }
   ],
   "source": [
    "# Get the column names of the data frame using \".columns\"\n",
    "########## CODE HERE ##########\n",
    "df.columns"
   ]
  },
  {
   "cell_type": "code",
   "execution_count": 17,
   "id": "03f1299b",
   "metadata": {
    "id": "03f1299b"
   },
   "outputs": [
    {
     "name": "stdout",
     "output_type": "stream",
     "text": [
      "<class 'pandas.core.frame.DataFrame'>\n",
      "Index: 20 entries, 2001 to 2020\n",
      "Data columns (total 3 columns):\n",
      " #   Column              Non-Null Count  Dtype  \n",
      "---  ------              --------------  -----  \n",
      " 0   George and Wallace  20 non-null     float64\n",
      " 1   Imperial Traders    20 non-null     float64\n",
      " 2   High Rise           20 non-null     float64\n",
      "dtypes: float64(3)\n",
      "memory usage: 640.0 bytes\n"
     ]
    }
   ],
   "source": [
    "# Look at basic information about the data frame using \".info()\"\n",
    "########## CODE HERE ##########\n",
    "df.info()"
   ]
  },
  {
   "cell_type": "code",
   "execution_count": null,
   "id": "a2410b63",
   "metadata": {
    "id": "a2410b63"
   },
   "outputs": [],
   "source": [
    "# Observations\n",
    "\n",
    "# There are 20 rows and 3 columns in the data\n",
    "# Each row contains the investment return percentages of three different agencies for a certain year\n",
    "\n",
    "# The features in the data set are:\n",
    "# The investment return percentage from the agency \"George and Wallace\" for the years 2001 to 2020\n",
    "# The investment return percentage from the agency \"Imperial Traders\" for the years 2001 to 2020\n",
    "# The investment return percentage from the agency \"High Rise\" for the years 2001 to 2020"
   ]
  },
  {
   "cell_type": "code",
   "execution_count": null,
   "id": "6f1006e3",
   "metadata": {
    "id": "6f1006e3"
   },
   "outputs": [],
   "source": [
    "###########################################################################"
   ]
  },
  {
   "cell_type": "code",
   "execution_count": null,
   "id": "abb0e4b1",
   "metadata": {
    "id": "abb0e4b1"
   },
   "outputs": [],
   "source": [
    "# Task 2 - View the distributions of the various features in the data set and also calculate various measures of dispersion\n",
    "\n",
    "# We will now calculate relevant statistical measures of central tendency and dispersion for each of the agencies\n",
    "# We will also view their investment returns distributions to get a sense of the spread of the values"
   ]
  },
  {
   "cell_type": "code",
   "execution_count": 19,
   "id": "0986a421",
   "metadata": {
    "id": "0986a421"
   },
   "outputs": [
    {
     "data": {
      "text/plain": [
       "4.0"
      ]
     },
     "execution_count": 19,
     "metadata": {},
     "output_type": "execute_result"
    }
   ],
   "source": [
    "# Calculate the mean of the \"George and Wallace\" feature using \".mean()\"\n",
    "########## CODE HERE ##########\n",
    "df['George and Wallace'].mean()"
   ]
  },
  {
   "cell_type": "code",
   "execution_count": 21,
   "id": "162420ac",
   "metadata": {
    "id": "162420ac"
   },
   "outputs": [
    {
     "data": {
      "text/plain": [
       "5.45"
      ]
     },
     "execution_count": 21,
     "metadata": {},
     "output_type": "execute_result"
    }
   ],
   "source": [
    "# Calculate the median of the \"George and Wallace\" feature using \".median()\"\n",
    "########## CODE HERE ##########\n",
    "df['George and Wallace'].median()"
   ]
  },
  {
   "cell_type": "code",
   "execution_count": 23,
   "id": "350911bf",
   "metadata": {
    "id": "350911bf"
   },
   "outputs": [
    {
     "data": {
      "image/png": "[encoded data removed]",
      "text/plain": [
       "<Figure size 600x300 with 1 Axes>"
      ]
     },
     "metadata": {},
     "output_type": "display_data"
    }
   ],
   "source": [
    "# Create a histogram of the \"George and Wallace\" feature and also show the mean and the median\n",
    "plt.figure(figsize = (6, 3), dpi= 100)\n",
    "sns.histplot(data = df, x = 'George and Wallace', color = 'orange', edgecolor = 'linen', alpha = 0.5, bins = 5)\n",
    "plt.vlines(x = df['George and Wallace'].mean(), ymin = 0, ymax = 6, colors = 'blue', label = 'Mean')\n",
    "plt.vlines(x = df['George and Wallace'].median(), ymin = 0, ymax = 6, colors = 'red', label = 'Median')\n",
    "plt.xlim(-20, 20)\n",
    "plt.title('Histogram of Investment Returns for George and Wallace')\n",
    "plt.xlabel('Percent Return in Investment')\n",
    "plt.ylabel('Count')\n",
    "plt.legend();"
   ]
  },
  {
   "cell_type": "code",
   "execution_count": 25,
   "id": "4fe64008",
   "metadata": {
    "id": "4fe64008"
   },
   "outputs": [
    {
     "data": {
      "text/plain": [
       "35.5"
      ]
     },
     "execution_count": 25,
     "metadata": {},
     "output_type": "execute_result"
    }
   ],
   "source": [
    "# Calculate the range of the \"George and Wallace\" feature using \".min()\" and \".max\"\n",
    "# Note: The range is equal to the difference between the maximum and minimum value in a data series\n",
    "########## CODE HERE ##########\n",
    "df['George and Wallace'].max()- df['George and Wallace'].min()"
   ]
  },
  {
   "cell_type": "code",
   "execution_count": 117,
   "id": "d1d3fcf0",
   "metadata": {
    "id": "d1d3fcf0"
   },
   "outputs": [
    {
     "data": {
      "text/plain": [
       "7.58"
      ]
     },
     "execution_count": 117,
     "metadata": {},
     "output_type": "execute_result"
    }
   ],
   "source": [
    "# Calculate the mean deviation about the mean for the \"George and Wallace\" feature\n",
    "########## CODE HERE ##########\n",
    "#df['George and Wallace'].mad()\n",
    "#import numpy as np\n",
    "#mad = np.mean(np.abs(df['George and Wallace'] - np.mean(df['IGeorge and Wallace'])))\n",
    "#print(\"MAD:\", mad)\n",
    "(df['George and Wallace'] - df['George and Wallace'].mean()).abs().mean()\n"
   ]
  },
  {
   "cell_type": "code",
   "execution_count": 35,
   "id": "b16e3047",
   "metadata": {
    "id": "b16e3047"
   },
   "outputs": [
    {
     "data": {
      "text/plain": [
       "90.11157894736841"
      ]
     },
     "execution_count": 35,
     "metadata": {},
     "output_type": "execute_result"
    }
   ],
   "source": [
    "# Calculate the variance for the \"George and Wallace\" feature using \".var()\"\n",
    "########## CODE HERE ##########\n",
    "df['George and Wallace'].var()"
   ]
  },
  {
   "cell_type": "code",
   "execution_count": 37,
   "id": "7bfc3ce2",
   "metadata": {
    "id": "7bfc3ce2"
   },
   "outputs": [
    {
     "data": {
      "text/plain": [
       "9.492711885829486"
      ]
     },
     "execution_count": 37,
     "metadata": {},
     "output_type": "execute_result"
    }
   ],
   "source": [
    "# Calculate the standard deviation for the \"George and Wallace\" feature using \".std()\"\n",
    "########## CODE HERE ##########\n",
    "df['George and Wallace'].std()"
   ]
  },
  {
   "cell_type": "code",
   "execution_count": 41,
   "id": "f84bb463",
   "metadata": {
    "id": "f84bb463"
   },
   "outputs": [
    {
     "data": {
      "text/plain": [
       "4.0"
      ]
     },
     "execution_count": 41,
     "metadata": {},
     "output_type": "execute_result"
    }
   ],
   "source": [
    "# Calculate the mean of the \"Imperial Traders\" feature using \".mean()\"\n",
    "########## CODE HERE ##########\n",
    "df['Imperial Traders'].mean()"
   ]
  },
  {
   "cell_type": "code",
   "execution_count": 43,
   "id": "6315802d",
   "metadata": {
    "id": "6315802d"
   },
   "outputs": [
    {
     "data": {
      "text/plain": [
       "7.65"
      ]
     },
     "execution_count": 43,
     "metadata": {},
     "output_type": "execute_result"
    }
   ],
   "source": [
    "# Calculate the median of the \"Imperial Traders\" feature using \".median()\"\n",
    "########## CODE HERE ##########\n",
    "df['Imperial Traders'].median()"
   ]
  },
  {
   "cell_type": "code",
   "execution_count": 45,
   "id": "9f9fa5f5",
   "metadata": {
    "id": "9f9fa5f5"
   },
   "outputs": [
    {
     "data": {
      "image/png": "[encoded data removed]",
      "text/plain": [
       "<Figure size 600x300 with 1 Axes>"
      ]
     },
     "metadata": {},
     "output_type": "display_data"
    }
   ],
   "source": [
    "# Create a histogram of the \"Imperial Traders\" feature and also show the mean and the median\n",
    "plt.figure(figsize = (6, 3), dpi= 100)\n",
    "sns.histplot(data = df, x = 'Imperial Traders', color = 'orange', edgecolor = 'linen', alpha = 0.5, bins = 5)\n",
    "plt.vlines(x = df['Imperial Traders'].mean(), ymin = 0, ymax = 9, colors = 'blue', label = 'Mean')\n",
    "plt.vlines(x = df['Imperial Traders'].median(), ymin = 0, ymax = 9, colors = 'red', label = 'Median')\n",
    "plt.xlim(-20, 20)\n",
    "plt.title('Histogram of Investment Returns for Imperial Traders')\n",
    "plt.xlabel('Percent Return in Investment')\n",
    "plt.ylabel('Count')\n",
    "plt.legend();"
   ]
  },
  {
   "cell_type": "code",
   "execution_count": 47,
   "id": "fde0b601",
   "metadata": {
    "id": "fde0b601"
   },
   "outputs": [
    {
     "data": {
      "text/plain": [
       "25.299999999999997"
      ]
     },
     "execution_count": 47,
     "metadata": {},
     "output_type": "execute_result"
    }
   ],
   "source": [
    "# Calculate the range of the \"Imperial Traders\" feature using \".min()\" and \".max\"\n",
    "# Note: The range is equal to the difference between the maximum and minimum value in a data series\n",
    "########## CODE HERE ##########\n",
    "df['Imperial Traders'].max()-df['Imperial Traders'].min()"
   ]
  },
  {
   "cell_type": "code",
   "execution_count": 113,
   "id": "69a2d63e",
   "metadata": {
    "id": "69a2d63e"
   },
   "outputs": [
    {
     "data": {
      "text/plain": [
       "7.2299999999999995"
      ]
     },
     "execution_count": 113,
     "metadata": {},
     "output_type": "execute_result"
    }
   ],
   "source": [
    "# Calculate the mean deviation about the mean for the \"Imperial Traders\" feature\n",
    "########## CODE HERE ##########\n",
    "#df['Imperial Traders'].mad()   it is not used in modern pandas instead use abs with mean.\n",
    "#import numpy as np\n",
    "#mad = np.mean(np.abs(df['Imperial Traders'] - np.mean(df['Imperial Traders'])))\n",
    "#print(\"MAD:\", mad)\n",
    "(df['Imperial Traders'] - df['Imperial Traders'].mean()).abs().mean()\n"
   ]
  },
  {
   "cell_type": "code",
   "execution_count": 51,
   "id": "9948e37a",
   "metadata": {
    "id": "9948e37a"
   },
   "outputs": [
    {
     "data": {
      "text/plain": [
       "63.66526315789473"
      ]
     },
     "execution_count": 51,
     "metadata": {},
     "output_type": "execute_result"
    }
   ],
   "source": [
    "# Calculate the variance for the \"Imperial Traders\" feature using \".var()\"\n",
    "########## CODE HERE ##########\n",
    "df['Imperial Traders'].var()"
   ]
  },
  {
   "cell_type": "code",
   "execution_count": 53,
   "id": "d17938fb",
   "metadata": {
    "id": "d17938fb"
   },
   "outputs": [
    {
     "data": {
      "text/plain": [
       "7.9790515199423755"
      ]
     },
     "execution_count": 53,
     "metadata": {},
     "output_type": "execute_result"
    }
   ],
   "source": [
    "# Calculate the standard deviation for the \"Imperial Traders\" feature using \".std()\"\n",
    "########## CODE HERE ##########\n",
    "df['Imperial Traders'].std()"
   ]
  },
  {
   "cell_type": "code",
   "execution_count": 55,
   "id": "9a6c0a1a",
   "metadata": {
    "id": "9a6c0a1a"
   },
   "outputs": [
    {
     "data": {
      "text/plain": [
       "3.999999999999999"
      ]
     },
     "execution_count": 55,
     "metadata": {},
     "output_type": "execute_result"
    }
   ],
   "source": [
    "# Calculate the mean of the \"High Rise\" feature using \".mean()\"\n",
    "########## CODE HERE ##########\n",
    "df['High Rise'].mean()"
   ]
  },
  {
   "cell_type": "code",
   "execution_count": 57,
   "id": "e3ea895b",
   "metadata": {
    "id": "e3ea895b"
   },
   "outputs": [
    {
     "data": {
      "text/plain": [
       "6.55"
      ]
     },
     "execution_count": 57,
     "metadata": {},
     "output_type": "execute_result"
    }
   ],
   "source": [
    "# Calculate the median of the \"High Rise\" feature using \".median()\"\n",
    "########## CODE HERE ##########\n",
    "df['High Rise'].median()"
   ]
  },
  {
   "cell_type": "code",
   "execution_count": 59,
   "id": "72da461a",
   "metadata": {
    "id": "72da461a"
   },
   "outputs": [
    {
     "data": {
      "image/png": "[encoded data removed]",
      "text/plain": [
       "<Figure size 600x300 with 1 Axes>"
      ]
     },
     "metadata": {},
     "output_type": "display_data"
    }
   ],
   "source": [
    "# Create a histogram of the \"High Rise\" feature and also show the mean and the median\n",
    "plt.figure(figsize = (6, 3), dpi= 100)\n",
    "sns.histplot(data = df, x = 'High Rise', color = 'orange', edgecolor = 'linen', alpha = 0.5, bins = 5)\n",
    "plt.vlines(x = df['High Rise'].mean(), ymin = 0, ymax = 10, colors = 'blue', label = 'Mean')\n",
    "plt.vlines(x = df['High Rise'].median(), ymin = 0, ymax = 10, colors = 'red', label = 'Median')\n",
    "plt.xlim(-20, 20)\n",
    "plt.title('Histogram of Investment Returns for High Rise')\n",
    "plt.xlabel('Percent Return in Investment')\n",
    "plt.ylabel('Count')\n",
    "plt.legend();"
   ]
  },
  {
   "cell_type": "code",
   "execution_count": 61,
   "id": "92d46853",
   "metadata": {
    "id": "92d46853"
   },
   "outputs": [
    {
     "data": {
      "text/plain": [
       "14.100000000000001"
      ]
     },
     "execution_count": 61,
     "metadata": {},
     "output_type": "execute_result"
    }
   ],
   "source": [
    "# Calculate the range of the \"High Rise\" feature using \".min()\" and \".max\"\n",
    "# Note: The range is equal to the difference between the maximum and minimum value in a data series\n",
    "########## CODE HERE ##########\n",
    "df['High Rise'].max() - df['High Rise'].min()"
   ]
  },
  {
   "cell_type": "code",
   "execution_count": 115,
   "id": "d05d99a5",
   "metadata": {
    "id": "d05d99a5"
   },
   "outputs": [
    {
     "data": {
      "text/plain": [
       "4.64"
      ]
     },
     "execution_count": 115,
     "metadata": {},
     "output_type": "execute_result"
    }
   ],
   "source": [
    "# Calculate the mean deviation about the mean for the \"High Rise\" feature using\n",
    "########## CODE HERE ##########\n",
    "#df['High Rise'].MAD()\n",
    "#import numpy as np\n",
    "#mad = np.mean(np.abs(df['High Rise'] - np.mean(df['High Rise'])))\n",
    "#mad = (df['George and Wallace'] - df['George and Wallace'].mean()).abs().mean()\n",
    "#mad\n",
    "(df['High Rise'] - df['High Rise'].mean()).abs().mean()\n"
   ]
  },
  {
   "cell_type": "code",
   "execution_count": 67,
   "id": "d6584f9f",
   "metadata": {
    "id": "d6584f9f"
   },
   "outputs": [
    {
     "data": {
      "text/plain": [
       "28.071578947368426"
      ]
     },
     "execution_count": 67,
     "metadata": {},
     "output_type": "execute_result"
    }
   ],
   "source": [
    "# Calculate the variance for the \"High Rise\" feature using \".var()\"\n",
    "########## CODE HERE ##########\n",
    "df['High Rise'].mean()"
   ]
  },
  {
   "cell_type": "code",
   "execution_count": 69,
   "id": "b79aee63",
   "metadata": {
    "id": "b79aee63"
   },
   "outputs": [
    {
     "data": {
      "text/plain": [
       "5.2982618798402585"
      ]
     },
     "execution_count": 69,
     "metadata": {},
     "output_type": "execute_result"
    }
   ],
   "source": [
    "# Calculate the standard deviation for the \"High Rise\" feature using \".std()\"\n",
    "########## CODE HERE ##########\n",
    "df['High Rise'].std()"
   ]
  },
  {
   "cell_type": "code",
   "execution_count": 71,
   "id": "6c7ef6a0",
   "metadata": {
    "id": "6c7ef6a0"
   },
   "outputs": [
    {
     "data": {
      "image/png": "[encoded data removed]",
      "text/plain": [
       "<Figure size 1200x400 with 3 Axes>"
      ]
     },
     "metadata": {},
     "output_type": "display_data"
    }
   ],
   "source": [
    "# Create a figure with all the relevant plots\n",
    "plt.figure(figsize = (12, 4))\n",
    "\n",
    "plt.subplot(1, 3, 1)\n",
    "sns.histplot(data = df, x = 'George and Wallace', color = 'orange', edgecolor = 'linen', alpha = 0.5, bins = 5)\n",
    "plt.vlines(x = df['George and Wallace'].mean(), ymin = 0, ymax = 6, colors = 'blue', label = 'Mean')\n",
    "plt.vlines(x = df['George and Wallace'].median(), ymin = 0, ymax = 6, colors = 'red', label = 'Median')\n",
    "plt.xlim(-20, 20)\n",
    "plt.title('George and Wallace')\n",
    "plt.xlabel('Percent Return in Investment')\n",
    "plt.ylabel('Count')\n",
    "\n",
    "plt.subplot(1, 3, 2)\n",
    "sns.histplot(data = df, x = 'Imperial Traders', color = 'orange', edgecolor = 'linen', alpha = 0.5, bins = 5)\n",
    "plt.vlines(x = df['Imperial Traders'].mean(), ymin = 0, ymax = 9, colors = 'blue', label = 'Mean')\n",
    "plt.vlines(x = df['Imperial Traders'].median(), ymin = 0, ymax = 9, colors = 'red', label = 'Median')\n",
    "plt.xlim(-20, 20)\n",
    "plt.title('Imperial Traders')\n",
    "plt.xlabel('Percent Return in Investment')\n",
    "plt.ylabel('Count')\n",
    "\n",
    "plt.subplot(1, 3, 3)\n",
    "sns.histplot(data = df, x = 'High Rise', color = 'orange', edgecolor = 'linen', alpha = 0.5, bins = 5)\n",
    "plt.vlines(x = df['High Rise'].mean(), ymin = 0, ymax = 10, colors = 'blue', label = 'Mean')\n",
    "plt.vlines(x = df['High Rise'].median(), ymin = 0, ymax = 10, colors = 'red', label = 'Median')\n",
    "plt.xlim(-20, 20)\n",
    "plt.title('High Rise')\n",
    "plt.xlabel('Percent Return in Investment')\n",
    "plt.ylabel('Count')\n",
    "\n",
    "plt.legend(loc = (1.05, 0.85))\n",
    "\n",
    "plt.tight_layout();"
   ]
  },
  {
   "cell_type": "code",
   "execution_count": null,
   "id": "39ad5575",
   "metadata": {
    "id": "39ad5575"
   },
   "outputs": [],
   "source": [
    "# Observations\n",
    "\n",
    "# The mean investment return percentage of all three agencies is 4 %\n",
    "\n",
    "# The median investment return percentages for the three agencies are as follows:\n",
    "# George and Wallace = 5.45 %\n",
    "# Imperial Traders = 7.65 %\n",
    "# High Rise = 6.55 %\n",
    "\n",
    "# We can use many different measures of dispersion or variability to get a sense of how stable a certain investment is\n",
    "# The standard deviations for the three agencies are as follows:\n",
    "# George and Wallace = 9.49 %\n",
    "# Imperial Traders = 7.98 %\n",
    "# High Rise = 5.3 %\n",
    "\n",
    "# Since the central tendencies of the three different agencies are similar, we can use variability as a measure of stability"
   ]
  },
  {
   "cell_type": "code",
   "execution_count": null,
   "id": "ebe2af63",
   "metadata": {
    "id": "ebe2af63"
   },
   "outputs": [],
   "source": [
    "###########################################################################"
   ]
  },
  {
   "cell_type": "code",
   "execution_count": null,
   "id": "e9ea46e7",
   "metadata": {
    "id": "e9ea46e7"
   },
   "outputs": [],
   "source": [
    "# Task 3 - Create a data frame to compare the variability in the investment returns of the different agencies\n",
    "\n",
    "# We will now compile all the relevant statistical measures for the three agencies into one data frame\n",
    "# We will then assess which agency to invest in based on returns and stability"
   ]
  },
  {
   "cell_type": "code",
   "execution_count": 109,
   "id": "e53a6e5c",
   "metadata": {
    "id": "e53a6e5c"
   },
   "outputs": [],
   "source": [
    "# Create a data frame to compare the mean, median and variations for the three companies and store it as \"variations\"\n",
    "# Note: Create three different temporary Pandas Series to store the details for the three different agencies\n",
    "# Note: The \"index\" parameter for these series can be set to \"['Mean', 'Median', 'Range', 'MAD', 'Variance', 'SD']\"\n",
    "# Note: The \"data\" parameter of the three series needs to be a list of the relevant values\n",
    "# Note: The same index needs to be used for the \"index\" parameter of the final data frame \"variations\"\n",
    "# Note: The \"data\" parameter of the data frame \"variations\" needs to be passed in as a dictionary\n",
    "########## CODE HERE ##########\n",
    "temp_index=['mean','median','range','MAD','variance','SD']\n",
    "\n",
    "temp1=pd.Series(index=temp_index,\n",
    "                data=[df[\"George and Wallace\"].mean(),\n",
    "                df[\"George and Wallace\"].median(),\n",
    "               df[\"George and Wallace\"].max()-df[\"George and Wallace\"].min(),\n",
    "               (df['George and Wallace'] - df['George and Wallace'].mean()).abs().mean(),# abs(df['George and Wallace'] - df['George and Wallace'].mean()).mean(),\n",
    "               df['George and Wallace'].var(),\n",
    "               df['George and Wallace'].std()])\n",
    "temp2=pd.Series(index=temp_index,\n",
    "                data=[df[\"Imperial Traders\"].mean(),\n",
    "                df[\"Imperial Traders\"].median(),\n",
    "               df[\"Imperial Traders\"].max()-df[\"Imperial Traders\"].min(),\n",
    "                (df['Imperial Traders'] - df['Imperial Traders'].mean()).abs().mean(),\n",
    "               df[\"Imperial Traders\"].var(),\n",
    "               df[\"Imperial Traders\"].std()])\n",
    "temp3=pd.Series(index=temp_index,\n",
    "                data=[df[\"High Rise\"].mean(),\n",
    "                df[\"High Rise\"].median(),\n",
    "               df[\"High Rise\"].max()-df[\"High Rise\"].min(),\n",
    "               (df['High Rise'] - df['High Rise'].mean()).abs().mean(),\n",
    "               df[\"High Rise\"].var(),\n",
    "               df[\"High Rise\"].std()])\n",
    "variations=pd.DataFrame(index=temp_index,\n",
    "                       data={'George and Wallace':temp1,'Imperial Traders': temp2,'High Rise':temp3})"
   ]
  },
  {
   "cell_type": "code",
   "execution_count": 111,
   "id": "cf8ca32c",
   "metadata": {
    "id": "cf8ca32c"
   },
   "outputs": [
    {
     "data": {
      "text/html": [
       "<div>\n",
       "<style scoped>\n",
       "    .dataframe tbody tr th:only-of-type {\n",
       "        vertical-align: middle;\n",
       "    }\n",
       "\n",
       "    .dataframe tbody tr th {\n",
       "        vertical-align: top;\n",
       "    }\n",
       "\n",
       "    .dataframe thead th {\n",
       "        text-align: right;\n",
       "    }\n",
       "</style>\n",
       "<table border=\"1\" class=\"dataframe\">\n",
       "  <thead>\n",
       "    <tr style=\"text-align: right;\">\n",
       "      <th></th>\n",
       "      <th>George and Wallace</th>\n",
       "      <th>Imperial Traders</th>\n",
       "      <th>High Rise</th>\n",
       "    </tr>\n",
       "  </thead>\n",
       "  <tbody>\n",
       "    <tr>\n",
       "      <th>mean</th>\n",
       "      <td>4.000000</td>\n",
       "      <td>4.000000</td>\n",
       "      <td>4.000000</td>\n",
       "    </tr>\n",
       "    <tr>\n",
       "      <th>median</th>\n",
       "      <td>5.450000</td>\n",
       "      <td>7.650000</td>\n",
       "      <td>6.550000</td>\n",
       "    </tr>\n",
       "    <tr>\n",
       "      <th>range</th>\n",
       "      <td>35.500000</td>\n",
       "      <td>25.300000</td>\n",
       "      <td>14.100000</td>\n",
       "    </tr>\n",
       "    <tr>\n",
       "      <th>MAD</th>\n",
       "      <td>7.580000</td>\n",
       "      <td>7.230000</td>\n",
       "      <td>4.640000</td>\n",
       "    </tr>\n",
       "    <tr>\n",
       "      <th>variance</th>\n",
       "      <td>90.111579</td>\n",
       "      <td>63.665263</td>\n",
       "      <td>28.071579</td>\n",
       "    </tr>\n",
       "    <tr>\n",
       "      <th>SD</th>\n",
       "      <td>9.492712</td>\n",
       "      <td>7.979052</td>\n",
       "      <td>5.298262</td>\n",
       "    </tr>\n",
       "  </tbody>\n",
       "</table>\n",
       "</div>"
      ],
      "text/plain": [
       "          George and Wallace  Imperial Traders  High Rise\n",
       "mean                4.000000          4.000000   4.000000\n",
       "median              5.450000          7.650000   6.550000\n",
       "range              35.500000         25.300000  14.100000\n",
       "MAD                 7.580000          7.230000   4.640000\n",
       "variance           90.111579         63.665263  28.071579\n",
       "SD                  9.492712          7.979052   5.298262"
      ]
     },
     "execution_count": 111,
     "metadata": {},
     "output_type": "execute_result"
    }
   ],
   "source": [
    "# View the \"variations\" data frame\n",
    "########## CODE HERE ##########\n",
    "variations"
   ]
  },
  {
   "cell_type": "code",
   "execution_count": null,
   "id": "718e3ad3",
   "metadata": {
    "id": "718e3ad3"
   },
   "outputs": [],
   "source": [
    "# Observations\n",
    "\n",
    "# The mean investment returns for the three agencies are equal to 4 %\n",
    "# The median investment return percentage for \"George and Wallace\" is the lowest at 5.45 %\n",
    "# The median investment return percentage for \"Imperial Traders\" is the highest at 7.65 %\n",
    "# The lowest variability in investment returns is shown by \"High Rise\" at 5.3 % standard deviation\n",
    "# The highest variablitiy in investment returns is shown by \"George and Wallace\" at 7.98 % standard deviation\n",
    "\n",
    "# Since \"George and Wallace\" has the least median investment return percentage and the highest variability, it can be rejected\n",
    "# The agency \"Imperial Traders\" offers a slightly higher median percentage with a higher variability than \"High Rise\"\n",
    "# The difference in the median percentages of \"Imperial Traders\" and \"High Rise\" is about 1 %\n",
    "# The difference in their standard deviation values is about 2.5 %\n",
    "\n",
    "# As an investor, stability is quite important for longer periods of investment\n",
    "# Keeping this in mind, we could recommend investing in the agency \"High Rise\""
   ]
  },
  {
   "cell_type": "code",
   "execution_count": null,
   "id": "5e533437",
   "metadata": {
    "id": "5e533437"
   },
   "outputs": [],
   "source": [
    "###########################################################################"
   ]
  },
  {
   "cell_type": "code",
   "execution_count": null,
   "id": "1589123c",
   "metadata": {
    "id": "1589123c"
   },
   "outputs": [],
   "source": [
    "# Conclusions\n",
    "\n",
    "# From the given data, we can use simple visualisations to get a sense of how data are distributed\n",
    "# We can use central tendency measures such as the mean and the median to get a sense of the representative value for a group\n",
    "# We can use various measures of variability such as range, mean absolute deviation and standard deviation\n",
    "# These measures help us get a sense of how variable or how stable a group of data is\n",
    "# By looking at these different statistical measures, we can make informed real world decisions"
   ]
  },
  {
   "cell_type": "code",
   "execution_count": null,
   "id": "df1f7600",
   "metadata": {
    "id": "df1f7600"
   },
   "outputs": [],
   "source": [
    "###########################################################################"
   ]
  }
 ],
 "metadata": {
  "colab": {
   "provenance": []
  },
  "kernelspec": {
   "display_name": "Python [conda env:base] *",
   "language": "python",
   "name": "conda-base-py"
  },
  "language_info": {
   "codemirror_mode": {
    "name": "ipython",
    "version": 3
   },
   "file_extension": ".py",
   "mimetype": "text/x-python",
   "name": "python",
   "nbconvert_exporter": "python",
   "pygments_lexer": "ipython3",
   "version": "3.12.7"
  }
 },
 "nbformat": 4,
 "nbformat_minor": 5
}
